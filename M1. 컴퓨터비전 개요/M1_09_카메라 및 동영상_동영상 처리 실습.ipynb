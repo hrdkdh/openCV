{
 "cells": [
  {
   "cell_type": "code",
   "execution_count": null,
   "metadata": {},
   "outputs": [],
   "source": [
    "import sys\n",
    "import cv2\n",
    "# 비디오 파일 열기\n",
    "cap = cv2.VideoCapture(\"../images/butterfly.mp4\")  #동영상 파일을 열고 cap 개체 생성\n",
    "\n",
    "if not cap.isOpened():    # 동영상 열기를 실패했을때 실행 중지\n",
    "    print(\"Video open failed!\")\n",
    "    sys.exit()\n",
    "# 비디오 프레임 크기, 전체 프레임수, FPS 등 출력\n",
    "print('Frame width:', int(cap.get(cv2.CAP_PROP_FRAME_WIDTH)))  # 가로 픽셀\n",
    "print(\"Frame height:\", int(cap.get(cv2.CAP_PROP_FRAME_HEIGHT)))  # 세로 픽셀\n",
    "print(\"Frame count:\", int(cap.get(cv2.CAP_PROP_FRAME_COUNT)))   # 총 프레임 수\n",
    "\n",
    "fps = cap.get(cv2.CAP_PROP_FPS)   #초당 프레임 수\n",
    "print(\"FPS:\", fps)\n",
    "delay = round(1000 / fps)   #프레임당 시간\n",
    "\n",
    "# 비디오 매 프레임 처리\n",
    "while True:\n",
    "    ret, frame = cap.read() #한 프레임 읽어 오기\n",
    "\n",
    "    if not ret:   # 프레임 읽기가 실패하면 종료\n",
    "        break\n",
    "\n",
    "    inversed = ~frame  # 프레임 반전\n",
    "\n",
    "    cv2.imshow(\"frame\", frame) #원본 영상 출력\n",
    "    cv2.imshow(\"inversed\", inversed) # 반전 영상 출력\n",
    "\n",
    "    if cv2.waitKey(delay) == 27: #  한 프레임 기간 지연 후, ESC 키를 눌렀을때 종료\n",
    "        break\n",
    "\n",
    "cap.release() # 사용한 자원 해제\n",
    "cv2.destroyAllWindows()  # 창 닫기"
   ]
  }
 ],
 "metadata": {
  "kernelspec": {
   "display_name": "Python 3",
   "language": "python",
   "name": "python3"
  },
  "language_info": {
   "codemirror_mode": {
    "name": "ipython",
    "version": 3
   },
   "file_extension": ".py",
   "mimetype": "text/x-python",
   "name": "python",
   "nbconvert_exporter": "python",
   "pygments_lexer": "ipython3",
   "version": "3.7.9"
  }
 },
 "nbformat": 4,
 "nbformat_minor": 4
}
