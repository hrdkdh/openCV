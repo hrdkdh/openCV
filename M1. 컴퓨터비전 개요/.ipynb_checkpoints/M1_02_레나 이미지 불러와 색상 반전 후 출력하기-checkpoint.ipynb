{
 "cells": [
  {
   "cell_type": "code",
   "execution_count": null,
   "metadata": {},
   "outputs": [],
   "source": [
    "import cv2    #opencv 불러오기\n",
    "import sys    #sys 불러오기\n",
    "\n",
    "#lenna.bmp를 불러와서 img에 저장\n",
    "img = cv2.imread(\"./images/lenna.bmp\")\n",
    "\n",
    "if img is None:   #영상 불러오기 실패시 종료\n",
    "    print(\"image load failed!\")\n",
    "    sys.exit()\n",
    "\n",
    "img2 = ~img    #이미지 반전\n",
    "\n",
    "#image, image2 창을 만들고 영상 출력\n",
    "cv2.imshow(\"image\", img) \n",
    "cv2.imshow(\"image2\", img2)\n",
    "cv2.waitKey() #키보드 입력이 있을때 까지 대기\n",
    "\n",
    "#생성된 모든 창을 닫고 종료\n",
    "cv2.destroyAllWindows()"
   ]
  },
  {
   "cell_type": "code",
   "execution_count": null,
   "metadata": {},
   "outputs": [],
   "source": []
  }
 ],
 "metadata": {
  "kernelspec": {
   "display_name": "Python 3",
   "language": "python",
   "name": "python3"
  },
  "language_info": {
   "codemirror_mode": {
    "name": "ipython",
    "version": 3
   },
   "file_extension": ".py",
   "mimetype": "text/x-python",
   "name": "python",
   "nbconvert_exporter": "python",
   "pygments_lexer": "ipython3",
   "version": "3.7.9"
  }
 },
 "nbformat": 4,
 "nbformat_minor": 4
}
