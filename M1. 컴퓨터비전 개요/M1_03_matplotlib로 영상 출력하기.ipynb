{
 "cells": [
  {
   "cell_type": "code",
   "execution_count": null,
   "metadata": {
    "scrolled": false
   },
   "outputs": [],
   "source": [
    "import matplotlib.pyplot as plt  \n",
    "import cv2\n",
    "\n",
    "#컬러 영상 출력\n",
    "imgBGR = cv2.imread(\"../images/dog.jpg\") \n",
    "imgRGB = cv2.cvtColor(imgBGR, cv2.COLOR_BGR2RGB) #이미지를 BGR에서 RGB 순으로 변경\n",
    "plt.axis(\"off\"), plt.imshow(imgRGB), plt.show()\n",
    "\n",
    "#그레이스케일 영상 출력\n",
    "imgGray = cv2.imread(\"../images/dog.jpg\", cv2.IMREAD_GRAYSCALE)  #Gray 이미지로 불러오기\n",
    "plt.axis(\"off\") , plt.imshow(imgGray ,cmap =\"gray\") , plt.show()"
   ]
  }
 ],
 "metadata": {
  "kernelspec": {
   "display_name": "Python 3",
   "language": "python",
   "name": "python3"
  },
  "language_info": {
   "codemirror_mode": {
    "name": "ipython",
    "version": 3
   },
   "file_extension": ".py",
   "mimetype": "text/x-python",
   "name": "python",
   "nbconvert_exporter": "python",
   "pygments_lexer": "ipython3",
   "version": "3.7.9"
  }
 },
 "nbformat": 4,
 "nbformat_minor": 4
}
