{
 "cells": [
  {
   "cell_type": "code",
   "execution_count": 1,
   "metadata": {},
   "outputs": [],
   "source": [
    "import sys, numpy as np, cv2\n",
    "img = cv2.imread(\"../images/dog.jpg\", cv2.IMREAD_GRAYSCALE)  #dog.jpg를 그레이스케일로 불러오기\n",
    "\n",
    "cv2.imshow(\"image\", img) \n",
    "\n",
    "while True:\n",
    "    keycode = cv2.waitKey()\n",
    "    if keycode == ord(\"i\") or keycode == ord(\"I\"):   # i 또는 I 키가 눌러지면 영상 반전 출력\n",
    "        img = ~img\n",
    "        cv2.imshow(\"image\", img)\n",
    "    elif keycode == 27:              # esc 키가 눌러지면 실행 중지\n",
    "        break\n",
    "\n",
    "cv2.destroyAllWindows()"
   ]
  }
 ],
 "metadata": {
  "kernelspec": {
   "display_name": "Python 3",
   "language": "python",
   "name": "python3"
  },
  "language_info": {
   "codemirror_mode": {
    "name": "ipython",
    "version": 3
   },
   "file_extension": ".py",
   "mimetype": "text/x-python",
   "name": "python",
   "nbconvert_exporter": "python",
   "pygments_lexer": "ipython3",
   "version": "3.7.9"
  }
 },
 "nbformat": 4,
 "nbformat_minor": 4
}
