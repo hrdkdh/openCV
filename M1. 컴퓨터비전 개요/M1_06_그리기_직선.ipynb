{
 "cells": [
  {
   "cell_type": "code",
   "execution_count": 1,
   "metadata": {},
   "outputs": [],
   "source": [
    "import cv2\n",
    "import numpy as np\n",
    "\n",
    "# 직선 그리기 예제- 모듈 불러오기 및 영상 출력 명령어 생략\n",
    "img = np.full((500, 500, 3), 255, np.uint8)   # 가로,세로 400x400 흰색 영상을 생성\n",
    "cv2.line(img, (50, 50), (250, 50), (0, 0, 255), 3)  # (50,50) 에서 (250,50) 까지 두께 3의 빨간색 선 그리기\n",
    "cv2.line(img, (50, 50), (250,250), (255, 0, 0))  #(50,50)에서 (250,250)까지 두께 1의 파란색 선 그리기\n",
    "\n",
    "cv2.imshow(\"img\", img)\n",
    "cv2.waitKey()\n",
    "cv2.destroyAllWindows()"
   ]
  }
 ],
 "metadata": {
  "kernelspec": {
   "display_name": "Python 3",
   "language": "python",
   "name": "python3"
  },
  "language_info": {
   "codemirror_mode": {
    "name": "ipython",
    "version": 3
   },
   "file_extension": ".py",
   "mimetype": "text/x-python",
   "name": "python",
   "nbconvert_exporter": "python",
   "pygments_lexer": "ipython3",
   "version": "3.7.9"
  }
 },
 "nbformat": 4,
 "nbformat_minor": 4
}
