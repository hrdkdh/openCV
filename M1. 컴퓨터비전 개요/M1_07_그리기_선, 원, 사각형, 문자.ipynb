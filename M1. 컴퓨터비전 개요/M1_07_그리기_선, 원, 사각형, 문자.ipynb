{
 "cells": [
  {
   "cell_type": "code",
   "execution_count": null,
   "metadata": {},
   "outputs": [],
   "source": [
    "import cv2\n",
    "import numpy as np\n",
    "\n",
    "img = np.full((400, 400, 3), 255, np.uint8) #흰색 배경 400X400 이미지 생성\n",
    "\n",
    "cv2.line(img, (50, 50), (200, 50), (0, 0, 255), 5)  #두께 5 빨간색 직선\n",
    "\n",
    "cv2.rectangle(img, (50, 200, 150, 100), (0, 255, 0), 2)  #녹색 사각형\n",
    "cv2.rectangle(img, (70, 220), (180, 280), (0, 128, 0), -1) # 녹색 사각형 채우기\n",
    "\n",
    "cv2.circle(img, (300, 100), 30, (255, 255, 0), -1, cv2.LINE_AA)  #하늘색 원, 내부 채우기\n",
    "cv2.circle(img, (300, 100), 60, (255, 0, 0), 3, cv2.LINE_AA) #파란색원, 두께 3\n",
    "\n",
    "text = 'this is computer vision'\n",
    "cv2.putText(img, text, (50, 350), cv2.FONT_HERSHEY_DUPLEX, 0.8, \n",
    "            (0, 0, 255), 1, cv2.LINE_AA)  #문자열 출력\n",
    "\n",
    "cv2.imshow(\"img\", img)\n",
    "cv2.waitKey()\n",
    "cv2.destroyAllWindows()"
   ]
  }
 ],
 "metadata": {
  "kernelspec": {
   "display_name": "Python 3",
   "language": "python",
   "name": "python3"
  },
  "language_info": {
   "codemirror_mode": {
    "name": "ipython",
    "version": 3
   },
   "file_extension": ".py",
   "mimetype": "text/x-python",
   "name": "python",
   "nbconvert_exporter": "python",
   "pygments_lexer": "ipython3",
   "version": "3.7.9"
  }
 },
 "nbformat": 4,
 "nbformat_minor": 4
}
