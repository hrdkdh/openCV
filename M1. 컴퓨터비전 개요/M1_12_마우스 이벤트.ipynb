{
 "cells": [
  {
   "cell_type": "code",
   "execution_count": null,
   "metadata": {},
   "outputs": [],
   "source": [
    "import cv2\n",
    "import numpy as np  \n",
    "\n",
    "def onMouse(event, x, y, flags, param):    #마우스 이벤트 처리함수 사용자 정의\n",
    "    #print(event,x,y)   #마우스 이벤트 출력\n",
    "    if event == cv2.EVENT_LBUTTONDOWN:   #마우스 왼쪽 버튼을 클릭할때 지름 30의 파란색 원 그리기\n",
    "        cv2.circle(img,(x,y), 30,(255,0,0),-1)\n",
    "        cv2.imshow(\"mouse_event\", img)  \n",
    "    if event == cv2.EVENT_RBUTTONDOWN:  #마우스 오른쪽 버튼을 클릭할때 지름 20의 빨간색 원 그리기\n",
    "        cv2.circle(img,(x,y), 20,(0,0,255),2)\n",
    "        cv2.imshow(\"mouse_event\", img)\n",
    "\n",
    "img=np.ones((480, 640, 3), dtype=np.uint8)* 255     #640 x 480의 흰색 이미지 생성  \n",
    "cv2.imshow(\"mouse_event\", img) #이미지 출력\n",
    "cv2.setMouseCallback(\"mouse_event\", onMouse)  #마우스 이벤트 함수 호출\n",
    "cv2.waitKey()\n",
    "cv2.destroyAllWindows()  # 창 닫기"
   ]
  }
 ],
 "metadata": {
  "kernelspec": {
   "display_name": "Python 3",
   "language": "python",
   "name": "python3"
  },
  "language_info": {
   "codemirror_mode": {
    "name": "ipython",
    "version": 3
   },
   "file_extension": ".py",
   "mimetype": "text/x-python",
   "name": "python",
   "nbconvert_exporter": "python",
   "pygments_lexer": "ipython3",
   "version": "3.7.9"
  }
 },
 "nbformat": 4,
 "nbformat_minor": 4
}
