{
 "cells": [
  {
   "cell_type": "code",
   "execution_count": 1,
   "metadata": {},
   "outputs": [],
   "source": [
    "import cv2\n",
    "import numpy as np"
   ]
  },
  {
   "cell_type": "markdown",
   "metadata": {},
   "source": [
    "#### 아래 창에 코드를 직접 입력하고 결과를 확인해 보세요"
   ]
  },
  {
   "cell_type": "code",
   "execution_count": null,
   "metadata": {},
   "outputs": [],
   "source": [
    "#흰색 배경 400X400 이미지 생성\n",
    "\n",
    "#두께 5 빨간색 직선\n",
    "\n",
    "#녹색 사각형\n",
    "\n",
    "#녹색 사각형 채우기\n",
    "\n",
    "#하늘색 원, 내부 채우기\n",
    "\n",
    "#파란색원, 두께 3\n",
    "\n",
    "#출력할 문자 지정\n",
    "text = \"this is computer vision\"\n",
    "\n",
    "#문자열 출력\n",
    "\n",
    "#영상 출력\n",
    "\n",
    "#키보드 입력이 있을때 까지 대기\n",
    "\n",
    "#생성된 모든 창을 닫고 종료"
   ]
  }
 ],
 "metadata": {
  "kernelspec": {
   "display_name": "Python 3",
   "language": "python",
   "name": "python3"
  },
  "language_info": {
   "codemirror_mode": {
    "name": "ipython",
    "version": 3
   },
   "file_extension": ".py",
   "mimetype": "text/x-python",
   "name": "python",
   "nbconvert_exporter": "python",
   "pygments_lexer": "ipython3",
   "version": "3.8.9"
  }
 },
 "nbformat": 4,
 "nbformat_minor": 4
}
