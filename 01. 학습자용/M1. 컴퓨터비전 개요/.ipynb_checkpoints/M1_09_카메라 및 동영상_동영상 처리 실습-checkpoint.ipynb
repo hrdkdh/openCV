{
 "cells": [
  {
   "cell_type": "code",
   "execution_count": null,
   "metadata": {},
   "outputs": [],
   "source": [
    "import sys\n",
    "import cv2"
   ]
  },
  {
   "cell_type": "markdown",
   "metadata": {},
   "source": [
    "#### 아래 창에 코드를 직접 입력하고 결과를 확인해 보세요"
   ]
  },
  {
   "cell_type": "code",
   "execution_count": null,
   "metadata": {},
   "outputs": [],
   "source": [
    "#비디오 파일 열기. 동영상 파일을 열고 cap 개체 생성\n",
    "\n",
    "#동영상 열기를 실패했을때 실행 중지할 코드\n",
    "\n",
    "#비디오 프레임 크기, 전체 프레임수, FPS 등 출력\n",
    "#가로 픽셀\n",
    "#세로 픽셀\n",
    "#총 프레임 수\n",
    "\n",
    "#초당 프레임 수 변수에 저장하고 출력\n",
    "\n",
    "#한 프레임당 시간 delay변수에 저장\n",
    "\n",
    "#반복문을 통해 비디오 매 프레임 당 처리\n",
    "\n",
    "#사용한 자원 해제\n",
    "\n",
    "#창 닫기"
   ]
  }
 ],
 "metadata": {
  "kernelspec": {
   "display_name": "Python 3",
   "language": "python",
   "name": "python3"
  },
  "language_info": {
   "codemirror_mode": {
    "name": "ipython",
    "version": 3
   },
   "file_extension": ".py",
   "mimetype": "text/x-python",
   "name": "python",
   "nbconvert_exporter": "python",
   "pygments_lexer": "ipython3",
   "version": "3.8.9"
  }
 },
 "nbformat": 4,
 "nbformat_minor": 4
}
