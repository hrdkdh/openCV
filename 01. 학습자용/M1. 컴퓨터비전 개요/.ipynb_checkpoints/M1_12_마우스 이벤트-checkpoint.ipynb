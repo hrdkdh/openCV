{
 "cells": [
  {
   "cell_type": "code",
   "execution_count": 1,
   "metadata": {},
   "outputs": [],
   "source": [
    "import cv2\n",
    "import numpy as np  "
   ]
  },
  {
   "cell_type": "markdown",
   "metadata": {},
   "source": [
    "#### 아래 창에 코드를 직접 입력하고 결과를 확인해 보세요"
   ]
  },
  {
   "cell_type": "code",
   "execution_count": null,
   "metadata": {},
   "outputs": [],
   "source": [
    "#마우스 이벤트 처리함수 사용자 정의\n",
    "def onMouse(event, x, y, flags, param):\n",
    "    #여기에 이벤트 처리 코드 작성\n",
    "    \n",
    "#640 x 480의 흰색 이미지 생성\n",
    "\n",
    "#이미지 출력\n",
    "\n",
    "#마우스 이벤트 함수 호출\n",
    "\n",
    "#키보드 입력이 있을때 까지 대기\n",
    "\n",
    "#생성된 모든 창을 닫고 종료\n"
   ]
  }
 ],
 "metadata": {
  "kernelspec": {
   "display_name": "Python 3",
   "language": "python",
   "name": "python3"
  },
  "language_info": {
   "codemirror_mode": {
    "name": "ipython",
    "version": 3
   },
   "file_extension": ".py",
   "mimetype": "text/x-python",
   "name": "python",
   "nbconvert_exporter": "python",
   "pygments_lexer": "ipython3",
   "version": "3.8.9"
  }
 },
 "nbformat": 4,
 "nbformat_minor": 4
}
