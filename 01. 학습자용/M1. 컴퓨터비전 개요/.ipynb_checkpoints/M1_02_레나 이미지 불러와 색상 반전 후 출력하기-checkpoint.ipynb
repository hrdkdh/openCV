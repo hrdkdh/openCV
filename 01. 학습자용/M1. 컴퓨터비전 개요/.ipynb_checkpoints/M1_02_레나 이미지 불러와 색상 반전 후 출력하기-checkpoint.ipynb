{
 "cells": [
  {
   "cell_type": "code",
   "execution_count": 1,
   "metadata": {},
   "outputs": [],
   "source": [
    "import cv2    #opencv 불러오기\n",
    "import sys    #sys 불러오기"
   ]
  },
  {
   "cell_type": "markdown",
   "metadata": {},
   "source": [
    "#### 아래 창에 코드를 직접 입력하고 결과를 확인해 보세요"
   ]
  },
  {
   "cell_type": "code",
   "execution_count": null,
   "metadata": {},
   "outputs": [],
   "source": [
    "#lenna.bmp를 불러와서 img에 저장\n",
    "\n",
    "#영상 불러오기 실패시 종료코드\n",
    "\n",
    "#이미지 반전\n",
    "\n",
    "#image, image2 창을 만들고 영상 출력\n",
    "\n",
    "#키보드 입력이 있을때 까지 대기\n",
    "\n",
    "#생성된 모든 창을 닫고 종료\n"
   ]
  }
 ],
 "metadata": {
  "kernelspec": {
   "display_name": "Python 3",
   "language": "python",
   "name": "python3"
  },
  "language_info": {
   "codemirror_mode": {
    "name": "ipython",
    "version": 3
   },
   "file_extension": ".py",
   "mimetype": "text/x-python",
   "name": "python",
   "nbconvert_exporter": "python",
   "pygments_lexer": "ipython3",
   "version": "3.8.9"
  }
 },
 "nbformat": 4,
 "nbformat_minor": 4
}
