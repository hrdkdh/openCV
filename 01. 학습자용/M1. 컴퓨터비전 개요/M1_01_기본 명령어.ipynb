{
 "cells": [
  {
   "cell_type": "code",
   "execution_count": null,
   "metadata": {
    "scrolled": true
   },
   "outputs": [],
   "source": [
    "#opencv 모듈 로드\n",
    "import cv2"
   ]
  },
  {
   "cell_type": "code",
   "execution_count": null,
   "metadata": {
    "scrolled": true
   },
   "outputs": [],
   "source": [
    "#영상 불러오기\n",
    "retval = cv2.imread(filename[,flags])\n",
    "\n",
    "\"\"\"\n",
    "- filename: 불러올 영상 파일 이름 (문자열)\n",
    "- flags : 영상 파일 불러오기 플래그(옵션)\n",
    "- retval : 불러온 영상 데이터(numpy.ndarray) *retval : return value\n",
    "\n",
    "#예시\n",
    "filename = \"images/cat.jpg\"\n",
    "retval = cv2.imread(filename, cv2.IMREAD_GRAYSCALE)\n",
    "print(retval)\n",
    "\"\"\""
   ]
  },
  {
   "cell_type": "code",
   "execution_count": null,
   "metadata": {},
   "outputs": [],
   "source": [
    "#영상 저장하기\n",
    "retval = cv2.imwrite(filename, img [,params])\n",
    "\n",
    "\"\"\"\n",
    "- filename: 저장할 파일명 (문자열)\n",
    "- img : 저장할 영상 데이터(numpy.ndarray)\n",
    "- params : 파일 저장 옵션 지정\n",
    "  params example ) [cv2.IMWRITE_JPEG_QUALITY, 90] : JPG 파일 압축률을 90% 로 지정\n",
    "- retval : 정상적으로 저장하면 True, 실패하면 False  *retval : return value\n",
    "\n",
    "#예시\n",
    "filename = \"images/cat.jpg\"\n",
    "graycat = cv2.imread(filename, cv2.IMREAD_GRAYSCALE)\n",
    "retval = cv2.imwrite(\"images/cat_gray.jpg\", graycat)\n",
    "print(retval)\n",
    "\"\"\""
   ]
  },
  {
   "cell_type": "code",
   "execution_count": null,
   "metadata": {},
   "outputs": [],
   "source": [
    "#새 window 열기\n",
    "cv2.namedWindow(winname, flags None)\n",
    "\n",
    "\"\"\"\n",
    "- winname : window 이름 (문자열)\n",
    "- flags : window 속성지정 플래그(옵션)\n",
    "\"\"\""
   ]
  },
  {
   "cell_type": "code",
   "execution_count": null,
   "metadata": {},
   "outputs": [],
   "source": [
    "#window 닫기1\n",
    "cv2.destroyWindow(winname)\n",
    "\n",
    "#window 닫기2\n",
    "cv2.destroyAllWindows()\n",
    "\n",
    "\"\"\"\n",
    "- winname : 닫고자 하는 window 이름(문자열)\n",
    "※cv2.destroyWindow() 함수는 지정한 window 하나만 닫고,\n",
    "  cv2.destroyAllWindows() 함수는 열려있는 모든 창을 닫음\n",
    "\"\"\""
   ]
  },
  {
   "cell_type": "code",
   "execution_count": null,
   "metadata": {},
   "outputs": [],
   "source": [
    "#window 크기 변경\n",
    "cv2.resizeWindow(winname, width, height)\n",
    "\n",
    "\"\"\"\n",
    "- winname : window 이름 (문자열),\n",
    "- width, height : 변경할 window의 가로, 세로 크기\n",
    "\"\"\""
   ]
  },
  {
   "cell_type": "code",
   "execution_count": null,
   "metadata": {},
   "outputs": [],
   "source": [
    "#영상 출력\n",
    "cv2.imshow(winname, mat)\n",
    "\n",
    "\"\"\"\n",
    "- winname : 영상을 출력할 window 이름,\n",
    "- mat : 출력할 영상 데이터 (numpy.ndarray)\n",
    "\n",
    "※winname에 해당하는 창이 없으면 창을 새로 만들어서 영상을 출력함\n",
    "  cv2.waitKey() 함수를 호출해야 화면에 영상이 나타남\n",
    "\"\"\""
   ]
  },
  {
   "cell_type": "code",
   "execution_count": null,
   "metadata": {},
   "outputs": [],
   "source": [
    "#키보드 입력대기\n",
    "retval = cv2.waitKey(delay=None) \n",
    "\n",
    "\"\"\"\n",
    "- delay : 밀리초 단위 대기 시간\n",
    "  delay≤0 이면 무한히 기다림. 기본값은 0\n",
    "- retval : 눌린 키 값(ASCII code)\n",
    "  키가 눌리지 않으면 1\n",
    "\n",
    "※참고 : cv2.waitKey() 함수는 OpenCV 창이 하나라도 있을 때 동작함\n",
    "\n",
    "※특정키 입력을 확인하려면 ord() 함수를 사용\n",
    "#아래는 q가 입력되면 while loop를 중단하는 ord() 함수 코드\n",
    "while True:\n",
    "    if cv2.waitKey() == ord(\"q\"):\n",
    "        break\n",
    "\"\"\""
   ]
  }
 ],
 "metadata": {
  "kernelspec": {
   "display_name": "Python 3",
   "language": "python",
   "name": "python3"
  },
  "language_info": {
   "codemirror_mode": {
    "name": "ipython",
    "version": 3
   },
   "file_extension": ".py",
   "mimetype": "text/x-python",
   "name": "python",
   "nbconvert_exporter": "python",
   "pygments_lexer": "ipython3",
   "version": "3.7.9"
  }
 },
 "nbformat": 4,
 "nbformat_minor": 4
}
