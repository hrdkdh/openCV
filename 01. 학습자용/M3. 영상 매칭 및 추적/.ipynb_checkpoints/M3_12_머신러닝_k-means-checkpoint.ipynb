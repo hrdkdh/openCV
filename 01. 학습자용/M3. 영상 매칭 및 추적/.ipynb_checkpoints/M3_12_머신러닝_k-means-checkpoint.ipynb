{
 "cells": [
  {
   "cell_type": "code",
   "execution_count": null,
   "metadata": {},
   "outputs": [],
   "source": [
    "import cv2\n",
    "import numpy as np"
   ]
  },
  {
   "cell_type": "markdown",
   "metadata": {},
   "source": [
    "#### 아래 창에 코드를 직접 입력하고 결과를 확인해 보세요"
   ]
  },
  {
   "cell_type": "code",
   "execution_count": null,
   "metadata": {},
   "outputs": [],
   "source": [
    "src = cv2.imread(\"../images/rose1.jpg\")   # 입력 영상 불러오기\n"
   ]
  },
  {
   "cell_type": "markdown",
   "metadata": {},
   "source": [
    "#### 참고 : BGR 3차원 산점도로 군집 보기"
   ]
  },
  {
   "cell_type": "code",
   "execution_count": null,
   "metadata": {
    "scrolled": false
   },
   "outputs": [],
   "source": [
    "import matplotlib.pyplot as plt\n",
    "import numpy as np\n",
    "import cv2\n",
    "\n",
    "src = cv2.imread(\"../images/rose1.jpg\") #입력 영상 불러오기\n",
    "src = cv2.cvtColor(src, cv2.COLOR_BGR2RGB) #scatter는 rgb를 사용하므로 RGB색공간으로 변환\n",
    "src = cv2.resize(src, None, fx=0.3, fy=0.3) #픽셀 간 구분감을 위해 리사이즈\n",
    "# cv2.imshow(\"src\", src)\n",
    "# cv2.waitKey()\n",
    "# cv2.destroyAllWindows()\n",
    "\n",
    "r, g, b = [], [], []\n",
    "for row in src:\n",
    "    for col in row:\n",
    "        r.append(col[0])\n",
    "        g.append(col[1])\n",
    "        b.append(col[2])\n",
    "r = np.array(r)\n",
    "g = np.array(g)\n",
    "b = np.array(b)\n",
    "color = src.reshape(-1,3)/255.0\n",
    "\n",
    "xmin, xmax, ymin, ymax, zmin, zmax = 0, 255, 0, 255, 0, 255\n",
    "\n",
    "fig = plt.figure(figsize=(12, 12))\n",
    "ax = fig.add_subplot(111, projection=\"3d\")\n",
    "ax.set_xlabel(\"Red\")\n",
    "ax.set_ylabel(\"Green\")\n",
    "ax.set_zlabel(\"Blue\")\n",
    "ax.view_init(20, 20)\n",
    "ax.scatter(r, g, b, c=color, marker=\"o\")\n",
    "plt.show()"
   ]
  },
  {
   "cell_type": "markdown",
   "metadata": {},
   "source": [
    "#### 참고 : HSV 2차원 산점도로 군집 보기"
   ]
  },
  {
   "cell_type": "code",
   "execution_count": null,
   "metadata": {
    "scrolled": false
   },
   "outputs": [],
   "source": [
    "import matplotlib.pyplot as plt\n",
    "import numpy as np\n",
    "import cv2\n",
    "\n",
    "src = cv2.imread(\"../images/rose1.jpg\") #입력 영상 불러오기\n",
    "src = cv2.resize(src, None, fx=0.3, fy=0.3) #픽셀 간 구분감을 위해 리사이즈\n",
    "src_for_color = cv2.cvtColor(src, cv2.COLOR_BGR2RGB)\n",
    "color = src_for_color.reshape(-1,3)/255.0\n",
    "\n",
    "src = cv2.cvtColor(src, cv2.COLOR_BGR2HSV)\n",
    "\n",
    "h, v = [], []\n",
    "for row in src:\n",
    "    for col in row:\n",
    "        h.append(col[0])\n",
    "        v.append(col[2])\n",
    "h = np.array(h)\n",
    "v = np.array(v)\n",
    "\n",
    "xmin, xmax, ymin, ymax = 0, 180, 0, 255\n",
    "\n",
    "fig = plt.figure(figsize=(12, 8))\n",
    "ax = fig.add_subplot(111)\n",
    "ax.set_xlabel(\"Hue\")\n",
    "ax.set_ylabel(\"Value\")\n",
    "ax.scatter(h, v, c=color, marker=\"o\")\n",
    "plt.show()"
   ]
  },
  {
   "cell_type": "markdown",
   "metadata": {},
   "source": [
    "#### 참고 : HSV 3차원 산점도로 군집 보기"
   ]
  },
  {
   "cell_type": "code",
   "execution_count": null,
   "metadata": {},
   "outputs": [],
   "source": [
    "import matplotlib.pyplot as plt\n",
    "import numpy as np\n",
    "import cv2\n",
    "\n",
    "src = cv2.imread(\"../images/rose1.jpg\") #입력 영상 불러오기\n",
    "src = cv2.resize(src, None, fx=0.3, fy=0.3) #픽셀 간 구분감을 위해 리사이즈\n",
    "src_for_color = cv2.cvtColor(src, cv2.COLOR_BGR2RGB)\n",
    "color = src_for_color.reshape(-1,3)/255.0\n",
    "\n",
    "src = cv2.cvtColor(src, cv2.COLOR_BGR2HSV)\n",
    "\n",
    "h, s, v = [], [], []\n",
    "for row in src:\n",
    "    for col in row:\n",
    "        h.append(col[0])\n",
    "        s.append(col[1])\n",
    "        v.append(col[2])\n",
    "h = np.array(h)\n",
    "s = np.array(s)\n",
    "v = np.array(v)\n",
    "\n",
    "xmin, xmax, ymin, ymax, zmin, zmax = 0, 180, 0, 255, 0, 255\n",
    "\n",
    "fig = plt.figure(figsize=(12, 12))\n",
    "ax = fig.add_subplot(111, projection=\"3d\")\n",
    "ax.set_xlabel(\"Hue\")\n",
    "ax.set_ylabel(\"Saturation\")\n",
    "ax.set_zlabel(\"Value\")\n",
    "ax.view_init(30, 60)\n",
    "ax.scatter(h, s, v, c=color, marker=\"o\")\n",
    "plt.show()"
   ]
  }
 ],
 "metadata": {
  "kernelspec": {
   "display_name": "Python 3",
   "language": "python",
   "name": "python3"
  },
  "language_info": {
   "codemirror_mode": {
    "name": "ipython",
    "version": 3
   },
   "file_extension": ".py",
   "mimetype": "text/x-python",
   "name": "python",
   "nbconvert_exporter": "python",
   "pygments_lexer": "ipython3",
   "version": "3.8.9"
  }
 },
 "nbformat": 4,
 "nbformat_minor": 4
}
