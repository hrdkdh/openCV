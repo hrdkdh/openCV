{
 "cells": [
  {
   "cell_type": "code",
   "execution_count": null,
   "metadata": {},
   "outputs": [],
   "source": [
    "# 미리 다운로드 받아야 할 파일\n",
    "# yolov3.weights, yolov3.cfg, coco.names\n",
    "\n",
    "import cv2\n",
    "import sys\n",
    "import os.path\n",
    "import numpy as np"
   ]
  },
  {
   "cell_type": "markdown",
   "metadata": {},
   "source": [
    "#### 아래 창에 코드를 직접 입력하고 결과를 확인해 보세요"
   ]
  },
  {
   "cell_type": "code",
   "execution_count": null,
   "metadata": {},
   "outputs": [],
   "source": [
    "# 모델 & 설정 파일\n",
    "model = \"../models/yolo/yolov3.weights\" #다운로드 링크 : https://pjreddie.com/media/files/yolov3.weights\n",
    "config = \"../models/yolo/yolov3.cfg\" #다운로드 링크 : https://github.com/pjreddie/darknet/blob/master/cfg/yolov3.cfg\n",
    "class_labels = \"../models/yolo/coco.names\" #다운로드 링크 : https://raw.githubusercontent.com/pjreddie/darknet/master/data/coco.names\n"
   ]
  }
 ],
 "metadata": {
  "kernelspec": {
   "display_name": "Python 3",
   "language": "python",
   "name": "python3"
  },
  "language_info": {
   "codemirror_mode": {
    "name": "ipython",
    "version": 3
   },
   "file_extension": ".py",
   "mimetype": "text/x-python",
   "name": "python",
   "nbconvert_exporter": "python",
   "pygments_lexer": "ipython3",
   "version": "3.7.9"
  }
 },
 "nbformat": 4,
 "nbformat_minor": 4
}
