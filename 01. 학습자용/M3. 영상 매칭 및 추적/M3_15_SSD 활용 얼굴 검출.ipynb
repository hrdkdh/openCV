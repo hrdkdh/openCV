{
 "cells": [
  {
   "cell_type": "code",
   "execution_count": null,
   "metadata": {},
   "outputs": [],
   "source": [
    "# 미리 다운로드 받아야 할 파일\n",
    "#caffe : res10_300x300_ssd_iter_140000_fp16.caffemodel, deploy.prototxt\n",
    "#tensorflow : opencv_face_detector_uint8.pb, opencv_face_detector.pbtxt\n",
    "\n",
    "import os\n",
    "import cv2\n",
    "import sys \n",
    "import numpy as np"
   ]
  },
  {
   "cell_type": "markdown",
   "metadata": {},
   "source": [
    "#### 아래 창에 코드를 직접 입력하고 결과를 확인해 보세요"
   ]
  },
  {
   "cell_type": "code",
   "execution_count": null,
   "metadata": {},
   "outputs": [],
   "source": [
    "# caffe, tensorflow 모델을 차례로 테스트 해볼것\n",
    "model = \"../models/ssd/res10_300x300_ssd_iter_140000_fp16.caffemodel\" #다운로드 링크 : https://raw.githubusercontent.com/opencv/opencv_3rdparty/dnn_samples_face_detector_20180205_fp16/res10_300x300_ssd_iter_140000_fp16.caffemodel\n",
    "config = \"../models/ssd/deploy.prototxt\" #다운로드 링크 : https://github.com/opencv/opencv/blob/master/samples/dnn/face_detector/deploy.prototxt\n",
    "#model = \"opencv_face_detector_uint8.pb\" #다운로드 링크 : https://raw.githubusercontent.com/opencv/opencv_3rdparty/dnn_samples_face_detector_20180220_uint8/opencv_face_detector_uint8.pb\n",
    "#config = \"opencv_face_detector.pbtxt\" #다운로드 링크 : https://github.com/opencv/opencv/blob/master/samples/dnn/face_detector/opencv_face_detector.pbtxt\n"
   ]
  }
 ],
 "metadata": {
  "kernelspec": {
   "display_name": "Python 3",
   "language": "python",
   "name": "python3"
  },
  "language_info": {
   "codemirror_mode": {
    "name": "ipython",
    "version": 3
   },
   "file_extension": ".py",
   "mimetype": "text/x-python",
   "name": "python",
   "nbconvert_exporter": "python",
   "pygments_lexer": "ipython3",
   "version": "3.8.9"
  }
 },
 "nbformat": 4,
 "nbformat_minor": 4
}
