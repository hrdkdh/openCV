{
 "cells": [
  {
   "cell_type": "code",
   "execution_count": null,
   "metadata": {},
   "outputs": [],
   "source": [
    "# 미리 다운로드 받아야 할 파일\n",
    "# bvlc_googlenet.caffemodel,\n",
    "# deploy.prototxt\n",
    "# classification_classes_ILSVRC2012.txt\n",
    "\n",
    "import os\n",
    "import sys\n",
    "import cv2\n",
    "import numpy as np"
   ]
  },
  {
   "cell_type": "markdown",
   "metadata": {},
   "source": [
    "#### 아래 창에 코드를 직접 입력하고 결과를 확인해 보세요"
   ]
  },
  {
   "cell_type": "code",
   "execution_count": null,
   "metadata": {},
   "outputs": [],
   "source": [
    "#입력 영상 지정  , \"scooter.jpg\"로도 바꿔 테스트해볼 것\n",
    "filename = \"../images/space_shuttle.jpg\"\n",
    "# filename = \"../images/scooter.jpg\"\n",
    "img = cv2.imread(filename)\n",
    "\n",
    "# Caffe 모델 불러오기\n",
    "#다운로드 링크 : http://dl.caffe.berkeleyvision.org/bvlc_googlenet.caffemodel\n",
    "model = \"../models/googlenet/bvlc_googlenet.caffemodel\"\n",
    "#다운로드 링크 : https://github.com/BVLC/caffe/blob/master/models/bvlc_googlenet/deploy.prototxt\n",
    "config = \"../models/googlenet/deploy.prototxt\"\n"
   ]
  }
 ],
 "metadata": {
  "kernelspec": {
   "display_name": "Python 3",
   "language": "python",
   "name": "python3"
  },
  "language_info": {
   "codemirror_mode": {
    "name": "ipython",
    "version": 3
   },
   "file_extension": ".py",
   "mimetype": "text/x-python",
   "name": "python",
   "nbconvert_exporter": "python",
   "pygments_lexer": "ipython3",
   "version": "3.7.9"
  }
 },
 "nbformat": 4,
 "nbformat_minor": 4
}
