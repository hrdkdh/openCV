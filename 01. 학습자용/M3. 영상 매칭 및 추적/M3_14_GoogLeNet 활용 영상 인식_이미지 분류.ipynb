{
 "cells": [
  {
   "cell_type": "code",
   "execution_count": null,
   "metadata": {},
   "outputs": [],
   "source": [
    "# 미리 다운로드 받아야 할 파일\n",
    "# bvlc_googlenet.caffemodel,\n",
    "# deploy.prototxt\n",
    "# classification_classes_ILSVRC2012.txt\n",
    "\n",
    "import os\n",
    "import sys\n",
    "import cv2\n",
    "import numpy as np"
   ]
  },
  {
   "cell_type": "markdown",
   "metadata": {},
   "source": [
    "#### 아래 창에 코드를 직접 입력하고 결과를 확인해 보세요"
   ]
  },
  {
   "cell_type": "code",
   "execution_count": null,
   "metadata": {},
   "outputs": [],
   "source": [
    "filename = \"../images/space_shuttle.jpg\"  # 입력 영상 지정  , \"scooter.jpg\" 도 테스트\n",
    "img = cv2.imread(filename) # 입력 영상 불러오기\n"
   ]
  }
 ],
 "metadata": {
  "kernelspec": {
   "display_name": "Python 3",
   "language": "python",
   "name": "python3"
  },
  "language_info": {
   "codemirror_mode": {
    "name": "ipython",
    "version": 3
   },
   "file_extension": ".py",
   "mimetype": "text/x-python",
   "name": "python",
   "nbconvert_exporter": "python",
   "pygments_lexer": "ipython3",
   "version": "3.8.9"
  }
 },
 "nbformat": 4,
 "nbformat_minor": 4
}
