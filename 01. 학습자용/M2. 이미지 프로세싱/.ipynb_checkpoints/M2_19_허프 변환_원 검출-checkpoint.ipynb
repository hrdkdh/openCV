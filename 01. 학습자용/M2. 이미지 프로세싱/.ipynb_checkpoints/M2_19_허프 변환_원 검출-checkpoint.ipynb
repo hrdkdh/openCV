{
 "cells": [
  {
   "cell_type": "code",
   "execution_count": null,
   "metadata": {},
   "outputs": [],
   "source": [
    "import cv2\n",
    "import numpy as np"
   ]
  },
  {
   "cell_type": "markdown",
   "metadata": {},
   "source": [
    "#### 아래 창에 코드를 직접 입력하고 결과를 확인해 보세요"
   ]
  },
  {
   "cell_type": "code",
   "execution_count": null,
   "metadata": {},
   "outputs": [],
   "source": [
    "src = cv2.imread(\"../images/pipe.jpg\")\n",
    "gray = cv2.cvtColor(src, cv2.COLOR_BGR2GRAY)  #그레이이미지로 변환\n",
    "blr = cv2.GaussianBlur(gray, (0, 0), 1.0)  #가우시안 블러링\n",
    "\n",
    "#트랙바 입력 함수 작성\n",
    "def on_trackbar(pos):\n",
    "\n",
    "    \n",
    "# 트랙바 생성\n"
   ]
  }
 ],
 "metadata": {
  "kernelspec": {
   "display_name": "Python 3",
   "language": "python",
   "name": "python3"
  },
  "language_info": {
   "codemirror_mode": {
    "name": "ipython",
    "version": 3
   },
   "file_extension": ".py",
   "mimetype": "text/x-python",
   "name": "python",
   "nbconvert_exporter": "python",
   "pygments_lexer": "ipython3",
   "version": "3.8.9"
  }
 },
 "nbformat": 4,
 "nbformat_minor": 4
}
