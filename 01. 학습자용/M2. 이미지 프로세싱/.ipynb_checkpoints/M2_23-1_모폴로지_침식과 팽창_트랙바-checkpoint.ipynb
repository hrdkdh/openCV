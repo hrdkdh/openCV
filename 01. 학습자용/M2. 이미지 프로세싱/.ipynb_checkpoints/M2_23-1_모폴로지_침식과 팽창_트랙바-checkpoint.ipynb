{
 "cells": [
  {
   "cell_type": "code",
   "execution_count": null,
   "metadata": {},
   "outputs": [],
   "source": [
    "import cv2"
   ]
  },
  {
   "cell_type": "markdown",
   "metadata": {},
   "source": [
    "#### 아래 창에 코드를 직접 입력하고 결과를 확인해 보세요"
   ]
  },
  {
   "cell_type": "code",
   "execution_count": null,
   "metadata": {},
   "outputs": [],
   "source": [
    "src_org = cv2.imread(\"../images/circuit.jpg\", cv2.IMREAD_GRAYSCALE)\n",
    "\n",
    "#트랙바 이벤트 사용자 함수 정의\n",
    "def onTrackbar(pos):\n",
    "\n",
    "#트랙바 호출\n"
   ]
  }
 ],
 "metadata": {
  "kernelspec": {
   "display_name": "Python 3",
   "language": "python",
   "name": "python3"
  },
  "language_info": {
   "codemirror_mode": {
    "name": "ipython",
    "version": 3
   },
   "file_extension": ".py",
   "mimetype": "text/x-python",
   "name": "python",
   "nbconvert_exporter": "python",
   "pygments_lexer": "ipython3",
   "version": "3.8.9"
  }
 },
 "nbformat": 4,
 "nbformat_minor": 4
}
