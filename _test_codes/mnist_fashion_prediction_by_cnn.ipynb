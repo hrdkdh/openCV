{
 "cells": [
  {
   "cell_type": "code",
   "execution_count": 10,
   "metadata": {},
   "outputs": [
    {
     "name": "stdout",
     "output_type": "stream",
     "text": [
      "테스트할 그림파일 경로를 입력해 주세요.mnist_fashion_test.jpg\n"
     ]
    },
    {
     "data": {
      "image/png": "[encoded data removed]",
      "text/plain": [
       "<Figure size 432x288 with 1 Axes>"
      ]
     },
     "metadata": {
      "needs_background": "light"
     },
     "output_type": "display_data"
    },
    {
     "name": "stdout",
     "output_type": "stream",
     "text": [
      "CNN 추론결과 : 가방 (p : 1.0)\n"
     ]
    }
   ],
   "source": [
    "import cv2\n",
    "import json\n",
    "import numpy as np\n",
    "import tensorflow as tf\n",
    "import matplotlib.pyplot as plt\n",
    "\n",
    "model_dir = \"models/mnist_cnn\"\n",
    "\n",
    "#얼굴판별 CNN 모델 로드\n",
    "model_pgu = tf.keras.models.model_from_json(open(model_dir + \"/pgu_mnist_fashion_model_cnn_json.json\").read())\n",
    "model_pgu.load_weights(model_dir + \"/pgu_mnist_fashion_model_cnn_weights.h5\")\n",
    "class_names_file = model_dir + \"/pgu_mnist_fashion_model_cnn_names.json\"\n",
    "with open(class_names_file, \"r\") as json_file:\n",
    "    class_names = json.load(json_file)\n",
    "\n",
    "def testImage():\n",
    "    img_file = input(\"테스트할 그림파일 경로를 입력해 주세요.\")\n",
    "    img_file = \"images/\" + img_file\n",
    "    src = cv2.imread(img_file, cv2.IMREAD_GRAYSCALE)\n",
    "    src_resized = cv2.resize(src, (28, 28), interpolation=cv2.INTER_AREA)\n",
    "    src_resized_for_predict = np.expand_dims(src_resized, axis=0)\n",
    "    src_resized_for_predict = src_resized_for_predict.reshape(src_resized_for_predict.shape[0], src_resized_for_predict.shape[1], src_resized_for_predict.shape[2], 1)\n",
    "    predicted_vector = model_pgu.predict(src_resized_for_predict)\n",
    "    predicted_class = np.argmax(predicted_vector, axis=-1)\n",
    "    class_no = str(predicted_class).replace(\"[\", \"\").replace(\"]\", \"\")\n",
    "    label = class_names[class_no] + \" (p : \" + str(round(max(predicted_vector[0]), 2)) + \")\"\n",
    "    plt.imshow(src_resized, cmap=\"gray\")\n",
    "    plt.show()\n",
    "    print(\"CNN 추론결과 : {}\".format(label))\n",
    "        \n",
    "if __name__ == \"__main__\":\n",
    "    testImage()"
   ]
  },
  {
   "cell_type": "code",
   "execution_count": 7,
   "metadata": {},
   "outputs": [
    {
     "name": "stdout",
     "output_type": "stream",
     "text": [
      "(28, 28)\n"
     ]
    }
   ],
   "source": [
    "dataset = tf.keras.datasets.mnist.load_data()\n",
    "print(dataset[0][0][0].shape)"
   ]
  }
 ],
 "metadata": {
  "kernelspec": {
   "display_name": "Python 3",
   "language": "python",
   "name": "python3"
  },
  "language_info": {
   "codemirror_mode": {
    "name": "ipython",
    "version": 3
   },
   "file_extension": ".py",
   "mimetype": "text/x-python",
   "name": "python",
   "nbconvert_exporter": "python",
   "pygments_lexer": "ipython3",
   "version": "3.7.9"
  }
 },
 "nbformat": 4,
 "nbformat_minor": 4
}
