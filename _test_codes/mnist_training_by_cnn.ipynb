{
  "nbformat": 4,
  "nbformat_minor": 0,
  "metadata": {
    "colab": {
      "name": "mnist_training_by_cnn.ipynb",
      "provenance": [],
      "collapsed_sections": []
    },
    "kernelspec": {
      "name": "python3",
      "display_name": "Python 3"
    },
    "accelerator": "GPU"
  },
  "cells": [
    {
      "cell_type": "code",
      "metadata": {
        "id": "e89mKhOcOZ4A"
      },
      "source": [
        "import tensorflow_datasets as tfds\n",
        "import tensorflow as tf\n",
        "import matplotlib.pyplot as plt\n",
        "import cv2\n",
        "import os\n",
        "import json\n",
        "from google.colab import drive"
      ],
      "execution_count": 1,
      "outputs": []
    },
    {
      "cell_type": "code",
      "metadata": {
        "colab": {
          "base_uri": "https://localhost:8080/"
        },
        "id": "4Yjm6_s78GTY",
        "outputId": "91e5dd52-eac2-443b-9af8-9b3ec19dbb2c"
      },
      "source": [
        "drive.mount(\"/content/drive/\")\n",
        "os.listdir(\"drive/MyDrive/Colab Notebooks/\")"
      ],
      "execution_count": 2,
      "outputs": [
        {
          "output_type": "stream",
          "text": [
            "Mounted at /content/drive/\n"
          ],
          "name": "stdout"
        },
        {
          "output_type": "execute_result",
          "data": {
            "text/plain": [
              "['test.ipynb',\n",
              " 'mnist.ipynb',\n",
              " 'face_recorded_files',\n",
              " 'models',\n",
              " 'pgu_face_training.ipynb',\n",
              " 'pgu_face_training.ipynb의 사본',\n",
              " 'mnist_training.ipynb',\n",
              " 'mnist_training_by_cnn.ipynb']"
            ]
          },
          "metadata": {
            "tags": []
          },
          "execution_count": 2
        }
      ]
    },
    {
      "cell_type": "code",
      "metadata": {
        "colab": {
          "base_uri": "https://localhost:8080/"
        },
        "id": "22XRakCEPpiP",
        "outputId": "525d7602-3898-4707-dab8-67996d6a0747"
      },
      "source": [
        "(x_train, y_train), (x_test, y_test) = tf.keras.datasets.mnist.load_data()\n",
        "print(x_train.shape)\n",
        "print(y_train.shape)"
      ],
      "execution_count": 17,
      "outputs": [
        {
          "output_type": "stream",
          "text": [
            "(60000, 28, 28)\n",
            "(60000,)\n"
          ],
          "name": "stdout"
        }
      ]
    },
    {
      "cell_type": "code",
      "metadata": {
        "colab": {
          "base_uri": "https://localhost:8080/",
          "height": 297
        },
        "id": "DvNeSa8tPrP4",
        "outputId": "db1ca87a-7b05-4b9d-9126-09b9e91483c0"
      },
      "source": [
        "rows = 4\n",
        "cols = 4\n",
        "axes=[]\n",
        "fig=plt.figure()\n",
        "\n",
        "for a in range(rows*cols):\n",
        "    axes.append(fig.add_subplot(rows, cols, a+1))\n",
        "    subplot_title=(y_train[a])\n",
        "    axes[-1].set_title(subplot_title)\n",
        "    plt.imshow(x_train[a], cmap=\"gray\")\n",
        "fig.tight_layout()\n",
        "plt.show()"
      ],
      "execution_count": 18,
      "outputs": [
        {
          "output_type": "display_data",
          "data": {
            "image/png": "[encoded data removed]",
            "text/plain": [
              "<Figure size 432x288 with 16 Axes>"
            ]
          },
          "metadata": {
            "tags": [],
            "needs_background": "light"
          }
        }
      ]
    },
    {
      "cell_type": "markdown",
      "metadata": {
        "id": "ZCMne2GQ1PrN"
      },
      "source": [
        "# CNN"
      ]
    },
    {
      "cell_type": "code",
      "metadata": {
        "colab": {
          "base_uri": "https://localhost:8080/"
        },
        "id": "JMsV2-lf34jb",
        "outputId": "22bbca51-410b-438f-a31b-4aea69f210a4"
      },
      "source": [
        "model = tf.keras.Sequential()\n",
        "model.add(tf.keras.layers.Conv2D(input_shape=(28, 28, 1), filters=64, kernel_size=(3, 3), strides=(1,1), padding=\"same\", activation=\"relu\"))\n",
        "model.add(tf.keras.layers.Conv2D(kernel_size=(3,3), filters=64, padding=\"same\", activation=\"relu\"))\n",
        "model.add(tf.keras.layers.MaxPool2D(strides=(2,2)))\n",
        "model.add(tf.keras.layers.Conv2D(kernel_size=(3,3), filters=64, padding=\"same\", activation=\"relu\"))\n",
        "model.add(tf.keras.layers.MaxPool2D(strides=(2,2)))\n",
        "model.add(tf.keras.layers.Flatten())\n",
        "model.add(tf.keras.layers.Dense(units=128, activation=\"relu\"))\n",
        "model.add(tf.keras.layers.Dense(units=128, activation=\"relu\"))\n",
        "model.add(tf.keras.layers.Dense(units=128, activation=\"relu\"))\n",
        "model.add(tf.keras.layers.Dense(units=10, activation=\"softmax\"))\n",
        "\n",
        "model.compile(\n",
        "    optimizer=tf.keras.optimizers.Adam(), \n",
        "    loss=\"sparse_categorical_crossentropy\", \n",
        "    metrics=[\"accuracy\"]\n",
        ")\n",
        "\n",
        "#계층, 차원, 파라미터 수 요약 확인\n",
        "model.summary()"
      ],
      "execution_count": 19,
      "outputs": [
        {
          "output_type": "stream",
          "text": [
            "Model: \"sequential_2\"\n",
            "_________________________________________________________________\n",
            "Layer (type)                 Output Shape              Param #   \n",
            "=================================================================\n",
            "conv2d_4 (Conv2D)            (None, 28, 28, 64)        640       \n",
            "_________________________________________________________________\n",
            "conv2d_5 (Conv2D)            (None, 28, 28, 64)        36928     \n",
            "_________________________________________________________________\n",
            "max_pooling2d_2 (MaxPooling2 (None, 14, 14, 64)        0         \n",
            "_________________________________________________________________\n",
            "conv2d_6 (Conv2D)            (None, 14, 14, 64)        36928     \n",
            "_________________________________________________________________\n",
            "max_pooling2d_3 (MaxPooling2 (None, 7, 7, 64)          0         \n",
            "_________________________________________________________________\n",
            "flatten_1 (Flatten)          (None, 3136)              0         \n",
            "_________________________________________________________________\n",
            "dense_4 (Dense)              (None, 128)               401536    \n",
            "_________________________________________________________________\n",
            "dense_5 (Dense)              (None, 128)               16512     \n",
            "_________________________________________________________________\n",
            "dense_6 (Dense)              (None, 128)               16512     \n",
            "_________________________________________________________________\n",
            "dense_7 (Dense)              (None, 10)                1290      \n",
            "=================================================================\n",
            "Total params: 510,346\n",
            "Trainable params: 510,346\n",
            "Non-trainable params: 0\n",
            "_________________________________________________________________\n"
          ],
          "name": "stdout"
        }
      ]
    },
    {
      "cell_type": "code",
      "metadata": {
        "colab": {
          "base_uri": "https://localhost:8080/"
        },
        "id": "0-48wxOP_jbu",
        "outputId": "8f4a2692-06f7-43a0-a6c9-18b2705bf43b"
      },
      "source": [
        "x_train = x_train.reshape(x_train.shape[0], x_train.shape[1], x_train.shape[2], 1)\n",
        "x_test = x_test.reshape(x_test.shape[0], x_test.shape[1], x_test.shape[2], 1)\n",
        "print(x_train.shape)\n",
        "print(x_test.shape)"
      ],
      "execution_count": 20,
      "outputs": [
        {
          "output_type": "stream",
          "text": [
            "(60000, 28, 28, 1)\n",
            "(10000, 28, 28, 1)\n"
          ],
          "name": "stdout"
        }
      ]
    },
    {
      "cell_type": "code",
      "metadata": {
        "colab": {
          "base_uri": "https://localhost:8080/"
        },
        "id": "UlhJjKWnAD1a",
        "outputId": "6fc6c989-1d4b-489b-e095-714edbc7af43"
      },
      "source": [
        "!watch -d -n 0.5 nvidia-smi"
      ],
      "execution_count": 13,
      "outputs": [
        {
          "output_type": "stream",
          "text": [
            "\u001b[?1l\u001b>"
          ],
          "name": "stdout"
        }
      ]
    },
    {
      "cell_type": "code",
      "metadata": {
        "colab": {
          "base_uri": "https://localhost:8080/",
          "height": 1000
        },
        "id": "5aOJ26lF7m4u",
        "outputId": "57869053-1172-4b76-faa8-463d447d2c9d"
      },
      "source": [
        "# GPU 메모리 문제 발생 예방\n",
        "config = tf.compat.v1.ConfigProto(allow_soft_placement=True)\n",
        "config.gpu_options.per_process_gpu_memory_fraction = 0.8\n",
        "tf.compat.v1.keras.backend.set_session(tf.compat.v1.Session(config=config))\n",
        "\n",
        "epoch_counts = 30\n",
        "history = model.fit(\n",
        "    x_train,\n",
        "    y_train,\n",
        "    epochs=epoch_counts,\n",
        "    # batch_size = batch_size,\n",
        "    validation_split=0.25\n",
        "    # callbacks=[early_stopping]\n",
        ")\n",
        "\n",
        "#train loss, validation loss 그래프 출력\n",
        "plt.figure(figsize=(12, 4))\n",
        "plt.subplot(1, 2, 1)\n",
        "plt.plot(history.history[\"loss\"], \"b-\", label=\"loss\")\n",
        "plt.plot(history.history[\"val_loss\"], \"r--\", label=\"val_loss\")\n",
        "plt.xlabel(\"Epoch\")\n",
        "plt.legend()\n",
        "\n",
        "#train accutacy, validation accuracy 그래프 출력\n",
        "plt.subplot(1, 2, 2)\n",
        "plt.plot(history.history[\"accuracy\"], \"g-\", label=\"accuracy\")\n",
        "plt.plot(history.history[\"val_accuracy\"], \"k--\", label=\"val_accuracy\")\n",
        "plt.xlabel(\"Epoch\")\n",
        "plt.ylim(0.7, 1)\n",
        "plt.legend()\n",
        "plt.show()"
      ],
      "execution_count": 22,
      "outputs": [
        {
          "output_type": "stream",
          "text": [
            "Epoch 1/30\n",
            "1407/1407 [==============================] - 8s 6ms/step - loss: 0.4543 - accuracy: 0.8849 - val_loss: 0.0659 - val_accuracy: 0.9812\n",
            "Epoch 2/30\n",
            "1407/1407 [==============================] - 7s 5ms/step - loss: 0.0599 - accuracy: 0.9820 - val_loss: 0.0616 - val_accuracy: 0.9827\n",
            "Epoch 3/30\n",
            "1407/1407 [==============================] - 7s 5ms/step - loss: 0.0448 - accuracy: 0.9862 - val_loss: 0.0530 - val_accuracy: 0.9841\n",
            "Epoch 4/30\n",
            "1407/1407 [==============================] - 7s 5ms/step - loss: 0.0373 - accuracy: 0.9895 - val_loss: 0.0643 - val_accuracy: 0.9823\n",
            "Epoch 5/30\n",
            "1407/1407 [==============================] - 7s 5ms/step - loss: 0.0348 - accuracy: 0.9895 - val_loss: 0.0903 - val_accuracy: 0.9757\n",
            "Epoch 6/30\n",
            "1407/1407 [==============================] - 7s 5ms/step - loss: 0.0285 - accuracy: 0.9913 - val_loss: 0.0628 - val_accuracy: 0.9840\n",
            "Epoch 7/30\n",
            "1407/1407 [==============================] - 7s 5ms/step - loss: 0.0249 - accuracy: 0.9930 - val_loss: 0.0538 - val_accuracy: 0.9857\n",
            "Epoch 8/30\n",
            "1407/1407 [==============================] - 7s 5ms/step - loss: 0.0208 - accuracy: 0.9944 - val_loss: 0.0483 - val_accuracy: 0.9900\n",
            "Epoch 9/30\n",
            "1407/1407 [==============================] - 7s 5ms/step - loss: 0.0177 - accuracy: 0.9953 - val_loss: 0.0460 - val_accuracy: 0.9890\n",
            "Epoch 10/30\n",
            "1407/1407 [==============================] - 8s 5ms/step - loss: 0.0171 - accuracy: 0.9953 - val_loss: 0.0627 - val_accuracy: 0.9871\n",
            "Epoch 11/30\n",
            "1407/1407 [==============================] - 7s 5ms/step - loss: 0.0216 - accuracy: 0.9950 - val_loss: 0.0597 - val_accuracy: 0.9887\n",
            "Epoch 12/30\n",
            "1407/1407 [==============================] - 7s 5ms/step - loss: 0.0146 - accuracy: 0.9957 - val_loss: 0.0735 - val_accuracy: 0.9862\n",
            "Epoch 13/30\n",
            "1407/1407 [==============================] - 7s 5ms/step - loss: 0.0177 - accuracy: 0.9951 - val_loss: 0.0673 - val_accuracy: 0.9863\n",
            "Epoch 14/30\n",
            "1407/1407 [==============================] - 7s 5ms/step - loss: 0.0190 - accuracy: 0.9953 - val_loss: 0.0634 - val_accuracy: 0.9855\n",
            "Epoch 15/30\n",
            "1407/1407 [==============================] - 7s 5ms/step - loss: 0.0152 - accuracy: 0.9956 - val_loss: 0.0718 - val_accuracy: 0.9899\n",
            "Epoch 16/30\n",
            "1407/1407 [==============================] - 7s 5ms/step - loss: 0.0149 - accuracy: 0.9964 - val_loss: 0.0689 - val_accuracy: 0.9870\n",
            "Epoch 17/30\n",
            "1407/1407 [==============================] - 7s 5ms/step - loss: 0.0081 - accuracy: 0.9969 - val_loss: 0.0741 - val_accuracy: 0.9906\n",
            "Epoch 18/30\n",
            "1407/1407 [==============================] - 7s 5ms/step - loss: 0.0136 - accuracy: 0.9969 - val_loss: 0.0883 - val_accuracy: 0.9873\n",
            "Epoch 19/30\n",
            "1407/1407 [==============================] - 7s 5ms/step - loss: 0.0124 - accuracy: 0.9971 - val_loss: 0.0811 - val_accuracy: 0.9903\n",
            "Epoch 20/30\n",
            "1407/1407 [==============================] - 7s 5ms/step - loss: 0.0165 - accuracy: 0.9966 - val_loss: 0.1070 - val_accuracy: 0.9871\n",
            "Epoch 21/30\n",
            "1407/1407 [==============================] - 8s 5ms/step - loss: 0.0143 - accuracy: 0.9971 - val_loss: 0.0708 - val_accuracy: 0.9877\n",
            "Epoch 22/30\n",
            "1407/1407 [==============================] - 7s 5ms/step - loss: 0.0090 - accuracy: 0.9979 - val_loss: 0.0992 - val_accuracy: 0.9873\n",
            "Epoch 23/30\n",
            "1407/1407 [==============================] - 7s 5ms/step - loss: 0.0096 - accuracy: 0.9977 - val_loss: 0.0848 - val_accuracy: 0.9883\n",
            "Epoch 24/30\n",
            "1407/1407 [==============================] - 7s 5ms/step - loss: 0.0064 - accuracy: 0.9984 - val_loss: 0.1157 - val_accuracy: 0.9880\n",
            "Epoch 25/30\n",
            "1407/1407 [==============================] - 8s 5ms/step - loss: 0.0156 - accuracy: 0.9968 - val_loss: 0.0790 - val_accuracy: 0.9901\n",
            "Epoch 26/30\n",
            "1407/1407 [==============================] - 7s 5ms/step - loss: 0.0092 - accuracy: 0.9979 - val_loss: 0.0955 - val_accuracy: 0.9898\n",
            "Epoch 27/30\n",
            "1407/1407 [==============================] - 8s 5ms/step - loss: 0.0117 - accuracy: 0.9981 - val_loss: 0.0958 - val_accuracy: 0.9877\n",
            "Epoch 28/30\n",
            "1407/1407 [==============================] - 7s 5ms/step - loss: 0.0151 - accuracy: 0.9973 - val_loss: 0.0962 - val_accuracy: 0.9898\n",
            "Epoch 29/30\n",
            "1407/1407 [==============================] - 7s 5ms/step - loss: 0.0124 - accuracy: 0.9979 - val_loss: 0.0864 - val_accuracy: 0.9905\n",
            "Epoch 30/30\n",
            "1407/1407 [==============================] - 8s 5ms/step - loss: 0.0096 - accuracy: 0.9985 - val_loss: 0.0832 - val_accuracy: 0.9898\n"
          ],
          "name": "stdout"
        },
        {
          "output_type": "display_data",
          "data": {
            "image/png": "[encoded data removed]",
            "text/plain": [
              "<Figure size 864x288 with 2 Axes>"
            ]
          },
          "metadata": {
            "tags": [],
            "needs_background": "light"
          }
        }
      ]
    },
    {
      "cell_type": "code",
      "metadata": {
        "colab": {
          "base_uri": "https://localhost:8080/"
        },
        "id": "ZsTSeUuM7jy8",
        "outputId": "70599636-591b-41a5-ce61-bf267d18d37c"
      },
      "source": [
        "print(\"최종 결과 : \", model.evaluate(x_test, y_test))\n",
        "\n",
        "class_name_dic_by_no = {\n",
        "    \"0\":\"0\",\n",
        "    \"1\":\"1\",\n",
        "    \"2\":\"2\",\n",
        "    \"3\":\"3\",\n",
        "    \"4\":\"4\",\n",
        "    \"5\":\"5\",\n",
        "    \"6\":\"6\",\n",
        "    \"7\":\"7\",\n",
        "    \"8\":\"8\",\n",
        "    \"9\":\"9\"\n",
        "}\n",
        "\n",
        "#모델 저장\n",
        "try:\n",
        "  model_dir = \"drive/MyDrive/Colab Notebooks/models/mnist_model\"\n",
        "  json_string = model.to_json()\n",
        "  open(model_dir + \"/pgu_mnist_model_cnn_json.json\", \"w\").write(json_string)\n",
        "  model.save_weights(model_dir + \"/pgu_mnist_model_cnn_weights.h5\", overwrite=True)\n",
        "  with open(model_dir + \"/pgu_mnist_model_cnn_names.json\", \"w\") as outfile:\n",
        "      json.dump(class_name_dic_by_no, outfile)\n",
        "except:\n",
        "  print(\"=================================\")\n",
        "  print(\"=================================\")\n",
        "  print(\"모델 저장 중 오류가 발생하였습니다!\")\n",
        "  print(\"=================================\")\n",
        "  print(\"=================================\")\n",
        "finally:\n",
        "  pass"
      ],
      "execution_count": 24,
      "outputs": [
        {
          "output_type": "stream",
          "text": [
            "313/313 [==============================] - 1s 3ms/step - loss: 0.0605 - accuracy: 0.9908\n",
            "최종 결과 :  [0.06050191819667816, 0.9908000230789185]\n"
          ],
          "name": "stdout"
        }
      ]
    }
  ]
}