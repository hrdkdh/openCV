{
 "cells": [
  {
   "cell_type": "code",
   "execution_count": 1,
   "metadata": {
    "scrolled": true
   },
   "outputs": [],
   "source": [
    "import cv2\n",
    "import numpy as np\n",
    "import tensorflow as tf\n",
    "\n",
    "data = tf.keras.datasets.mnist.load_data()\n",
    "sample_img = data[0][0][0]"
   ]
  },
  {
   "cell_type": "code",
   "execution_count": 16,
   "metadata": {},
   "outputs": [
    {
     "name": "stdout",
     "output_type": "stream",
     "text": [
      "(1, 784)\n"
     ]
    }
   ],
   "source": [
    "sample_img_flatten_vertical = np.ravel(sample_img, order=\"C\")\n",
    "sample_img_flatten = sample_img_flatten.reshape(1, sample_img_flatten_vertical.shape[0])\n",
    "print(sample_img_flatten.shape)\n",
    "cv2.imshow(\"org\", sample_img)\n",
    "cv2.imshow(\"flatten\", sample_img_flatten)\n",
    "cv2.imshow(\"vertical\", sample_img_flatten_vertical)\n",
    "cv2.imwrite(\"images/org.png\", sample_img)\n",
    "cv2.imwrite(\"images/flatten.png\", sample_img_flatten)\n",
    "cv2.imwrite(\"images/vertical.png\", sample_img_flatten_vertical)\n",
    "cv2.waitKey()\n",
    "cv2.destroyAllWindows()"
   ]
  },
  {
   "cell_type": "code",
   "execution_count": 18,
   "metadata": {},
   "outputs": [],
   "source": [
    "no = 0\n",
    "for row in sample_img:\n",
    "    this_img = row.reshape(1, row.shape[0])\n",
    "    cv2.imwrite(\"images/org_row\"+str(no)+\".png\", this_img)\n",
    "    no += 1"
   ]
  }
 ],
 "metadata": {
  "kernelspec": {
   "display_name": "Python 3",
   "language": "python",
   "name": "python3"
  },
  "language_info": {
   "codemirror_mode": {
    "name": "ipython",
    "version": 3
   },
   "file_extension": ".py",
   "mimetype": "text/x-python",
   "name": "python",
   "nbconvert_exporter": "python",
   "pygments_lexer": "ipython3",
   "version": "3.7.9"
  }
 },
 "nbformat": 4,
 "nbformat_minor": 4
}
