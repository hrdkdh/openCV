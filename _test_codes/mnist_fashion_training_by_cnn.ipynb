{
 "cells": [
  {
   "cell_type": "code",
   "execution_count": null,
   "metadata": {
    "id": "e89mKhOcOZ4A"
   },
   "outputs": [],
   "source": [
    "import tensorflow_datasets as tfds\n",
    "import tensorflow as tf\n",
    "import matplotlib.pyplot as plt\n",
    "import cv2\n",
    "import os\n",
    "import json"
   ]
  },
  {
   "cell_type": "code",
   "execution_count": null,
   "metadata": {
    "colab": {
     "base_uri": "https://localhost:8080/"
    },
    "id": "22XRakCEPpiP",
    "outputId": "525d7602-3898-4707-dab8-67996d6a0747"
   },
   "outputs": [],
   "source": [
    "(x_train, y_train), (x_test, y_test) = tf.keras.datasets.fashion_mnist.load_data()\n",
    "print(x_train.shape)\n",
    "print(y_train.shape)\n",
    "print(\"y lable min : {}\".format(min(y_train)))\n",
    "print(\"y lable max : {}\".format(max(y_train)))"
   ]
  },
  {
   "cell_type": "code",
   "execution_count": null,
   "metadata": {
    "colab": {
     "base_uri": "https://localhost:8080/",
     "height": 297
    },
    "id": "DvNeSa8tPrP4",
    "outputId": "db1ca87a-7b05-4b9d-9126-09b9e91483c0"
   },
   "outputs": [],
   "source": [
    "rows = 3\n",
    "cols = 3\n",
    "axes=[]\n",
    "fig=plt.figure()\n",
    "\n",
    "for a in range(rows*cols):\n",
    "    axes.append(fig.add_subplot(rows, cols, a+1))\n",
    "    subplot_title=(y_train[a])\n",
    "    axes[-1].set_title(subplot_title)\n",
    "    plt.imshow(x_train[a], cmap=\"gray\")\n",
    "fig.tight_layout()\n",
    "plt.show()"
   ]
  },
  {
   "cell_type": "markdown",
   "metadata": {
    "id": "ZCMne2GQ1PrN"
   },
   "source": [
    "# CNN"
   ]
  },
  {
   "cell_type": "code",
   "execution_count": null,
   "metadata": {
    "colab": {
     "base_uri": "https://localhost:8080/"
    },
    "id": "JMsV2-lf34jb",
    "outputId": "22bbca51-410b-438f-a31b-4aea69f210a4"
   },
   "outputs": [],
   "source": [
    "model = tf.keras.Sequential()\n",
    "model.add(tf.keras.layers.Conv2D(input_shape=(28, 28, 1), filters=64, kernel_size=(3, 3), strides=(1,1), padding=\"same\", activation=\"relu\"))\n",
    "model.add(tf.keras.layers.Conv2D(kernel_size=(3,3), filters=64, padding=\"same\", activation=\"relu\"))\n",
    "model.add(tf.keras.layers.MaxPool2D(strides=(2,2)))\n",
    "model.add(tf.keras.layers.Conv2D(kernel_size=(3,3), filters=64, padding=\"same\", activation=\"relu\"))\n",
    "model.add(tf.keras.layers.MaxPool2D(strides=(2,2)))\n",
    "model.add(tf.keras.layers.Flatten())\n",
    "model.add(tf.keras.layers.Dense(units=128, activation=\"relu\"))\n",
    "model.add(tf.keras.layers.Dense(units=128, activation=\"relu\"))\n",
    "model.add(tf.keras.layers.Dense(units=128, activation=\"relu\"))\n",
    "model.add(tf.keras.layers.Dense(units=10, activation=\"softmax\"))\n",
    "\n",
    "model.compile(\n",
    "    optimizer=tf.keras.optimizers.Adam(), \n",
    "    loss=\"sparse_categorical_crossentropy\", \n",
    "    metrics=[\"accuracy\"]\n",
    ")\n",
    "\n",
    "#계층, 차원, 파라미터 수 요약 확인\n",
    "model.summary()"
   ]
  },
  {
   "cell_type": "code",
   "execution_count": null,
   "metadata": {
    "colab": {
     "base_uri": "https://localhost:8080/"
    },
    "id": "0-48wxOP_jbu",
    "outputId": "8f4a2692-06f7-43a0-a6c9-18b2705bf43b"
   },
   "outputs": [],
   "source": [
    "x_train = x_train.reshape(x_train.shape[0], x_train.shape[1], x_train.shape[2], 1)\n",
    "x_test = x_test.reshape(x_test.shape[0], x_test.shape[1], x_test.shape[2], 1)\n",
    "print(x_train.shape)\n",
    "print(x_test.shape)"
   ]
  },
  {
   "cell_type": "code",
   "execution_count": null,
   "metadata": {
    "colab": {
     "base_uri": "https://localhost:8080/",
     "height": 1000
    },
    "id": "5aOJ26lF7m4u",
    "outputId": "57869053-1172-4b76-faa8-463d447d2c9d"
   },
   "outputs": [],
   "source": [
    "# GPU 메모리 문제 발생 예방\n",
    "# config = tf.compat.v1.ConfigProto(allow_soft_placement=True)\n",
    "# config.gpu_options.per_process_gpu_memory_fraction = 0.8\n",
    "# tf.compat.v1.keras.backend.set_session(tf.compat.v1.Session(config=config))\n",
    "\n",
    "epoch_counts = 30\n",
    "history = model.fit(\n",
    "    x_train,\n",
    "    y_train,\n",
    "    epochs=epoch_counts,\n",
    "    # batch_size = batch_size,\n",
    "    validation_split=0.25\n",
    "    # callbacks=[early_stopping]\n",
    ")\n",
    "\n",
    "#train loss, validation loss 그래프 출력\n",
    "plt.figure(figsize=(12, 4))\n",
    "plt.subplot(1, 2, 1)\n",
    "plt.plot(history.history[\"loss\"], \"b-\", label=\"loss\")\n",
    "plt.plot(history.history[\"val_loss\"], \"r--\", label=\"val_loss\")\n",
    "plt.xlabel(\"Epoch\")\n",
    "plt.legend()\n",
    "\n",
    "#train accutacy, validation accuracy 그래프 출력\n",
    "plt.subplot(1, 2, 2)\n",
    "plt.plot(history.history[\"accuracy\"], \"g-\", label=\"accuracy\")\n",
    "plt.plot(history.history[\"val_accuracy\"], \"k--\", label=\"val_accuracy\")\n",
    "plt.xlabel(\"Epoch\")\n",
    "plt.ylim(0.7, 1)\n",
    "plt.legend()\n",
    "plt.show()"
   ]
  },
  {
   "cell_type": "code",
   "execution_count": null,
   "metadata": {
    "colab": {
     "base_uri": "https://localhost:8080/"
    },
    "id": "ZsTSeUuM7jy8",
    "outputId": "70599636-591b-41a5-ce61-bf267d18d37c"
   },
   "outputs": [],
   "source": [
    "print(\"최종 결과 : \", model.evaluate(x_test, y_test))\n",
    "\n",
    "class_name_dic_by_no = {\n",
    "    \"0\":\"티셔츠/탑\",\n",
    "    \"1\":\"바지\",\n",
    "    \"2\":\"스웨터\",\n",
    "    \"3\":\"드레스\",\n",
    "    \"4\":\"코트\",\n",
    "    \"5\":\"샌들\",\n",
    "    \"6\":\"셔츠\",\n",
    "    \"7\":\"스니커즈\",\n",
    "    \"8\":\"가방\",\n",
    "    \"9\":\"발목부츠\"\n",
    "}\n",
    "\n",
    "#모델 저장\n",
    "try:\n",
    "  model_dir = \"drive/MyDrive/Colab Notebooks/models/mnist_model\"\n",
    "  json_string = model.to_json()\n",
    "  open(model_dir + \"/pgu_mnist_fashion_model_cnn_json.json\", \"w\").write(json_string)\n",
    "  model.save_weights(model_dir + \"/pgu_mnist_fashion_model_cnn_weights.h5\", overwrite=True)\n",
    "  with open(model_dir + \"/pgu_mnist_fashion_model_cnn_names.json\", \"w\") as outfile:\n",
    "      json.dump(class_name_dic_by_no, outfile)\n",
    "except:\n",
    "  print(\"=================================\")\n",
    "  print(\"=================================\")\n",
    "  print(\"모델 저장 중 오류가 발생하였습니다!\")\n",
    "  print(\"=================================\")\n",
    "  print(\"=================================\")\n",
    "finally:\n",
    "  pass"
   ]
  }
 ],
 "metadata": {
  "accelerator": "GPU",
  "colab": {
   "collapsed_sections": [],
   "name": "mnist_training_by_cnn.ipynb",
   "provenance": []
  },
  "kernelspec": {
   "display_name": "Python 3",
   "language": "python",
   "name": "python3"
  },
  "language_info": {
   "codemirror_mode": {
    "name": "ipython",
    "version": 3
   },
   "file_extension": ".py",
   "mimetype": "text/x-python",
   "name": "python",
   "nbconvert_exporter": "python",
   "pygments_lexer": "ipython3",
   "version": "3.7.9"
  }
 },
 "nbformat": 4,
 "nbformat_minor": 1
}
