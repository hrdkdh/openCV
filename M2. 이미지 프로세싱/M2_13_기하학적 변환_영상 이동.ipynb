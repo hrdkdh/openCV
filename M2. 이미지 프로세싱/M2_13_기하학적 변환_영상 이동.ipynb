{
 "cells": [
  {
   "cell_type": "code",
   "execution_count": null,
   "metadata": {},
   "outputs": [],
   "source": [
    "import numpy as np, cv2\n",
    "\n",
    "src = cv2.imread(\"../images/dog.jpg\")\n",
    "\n",
    "aff1 = np.array([[1, 0, 200], [0, 1, 100]], dtype=np.float32)  # x축 200, y축 100 이동 어파인 행렬\n",
    "aff2 = np.array([[1, 0.5, 0], [0, 1, 0]], dtype=np.float32) # y축 증가시 x축 방향을 0.5 픽셀씩 이동\n",
    "\n",
    "dst1 = cv2.warpAffine(src, aff1, (0, 0))  # aff1 행렬을 이용해 영상 이동, 동일 크기\n",
    "\n",
    "h, w = src.shape[:2]  #원본 영상의 h, w 갖고 오기\n",
    "\n",
    "# x축이 늘어난 만큼 영상 크기 조정\n",
    "dst2 = cv2.warpAffine(src, aff2, (w + int(h * 0.5), h))\n",
    "\n",
    "cv2.imshow(\"src\", src)\n",
    "cv2.imshow(\"dst1\", dst1)\n",
    "cv2.imshow(\"dst2\", dst2)\n",
    "\n",
    "cv2.waitKey()\n",
    "cv2.destroyAllWindows()\n"
   ]
  }
 ],
 "metadata": {
  "kernelspec": {
   "display_name": "Python 3",
   "language": "python",
   "name": "python3"
  },
  "language_info": {
   "codemirror_mode": {
    "name": "ipython",
    "version": 3
   },
   "file_extension": ".py",
   "mimetype": "text/x-python",
   "name": "python",
   "nbconvert_exporter": "python",
   "pygments_lexer": "ipython3",
   "version": "3.7.9"
  }
 },
 "nbformat": 4,
 "nbformat_minor": 4
}
