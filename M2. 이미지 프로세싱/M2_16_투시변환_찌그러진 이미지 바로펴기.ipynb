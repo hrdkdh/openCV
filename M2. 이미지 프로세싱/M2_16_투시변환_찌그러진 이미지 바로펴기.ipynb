{
 "cells": [
  {
   "cell_type": "code",
   "execution_count": 11,
   "metadata": {},
   "outputs": [],
   "source": [
    "import cv2\n",
    "import numpy as np\n",
    "\n",
    "src = cv2.imread(\"../images/perspective_transform_sample.jpg\")\n",
    "\n",
    "dot_color = (50, 50, 220)\n",
    "dot_list = [(612, 214), (865, 227), (866, 634), (618, 658)]\n",
    "\n",
    "w = dot_list[1][0] - dot_list[0][0]\n",
    "h = dot_list[2][1] - dot_list[1][1]\n",
    "srcQuad = np.array(dot_list, np.float32)\n",
    "dstQuad = np.array([[0, 0], [w, 0], [w, h], [0, h]], np.float32)\n",
    "pers = cv2.getPerspectiveTransform(srcQuad, dstQuad)\n",
    "dst = cv2.warpPerspective(src, pers, (w, h))\n",
    "\n",
    "for dot in dot_list:\n",
    "    cv2.circle(src, dot, 8, dot_color, -1, cv2.LINE_AA)\n",
    "    cv2.putText(src, str(dot), (dot[0]-53, dot[1]-25), cv2.FONT_HERSHEY_SIMPLEX, 0.7, dot_color, thickness=2, lineType=cv2.LINE_AA)\n",
    "\n",
    "cv2.imshow(\"src\", src)\n",
    "cv2.imshow(\"dst\", dst)\n",
    "cv2.waitKey()\n",
    "cv2.destroyAllWindows()\n"
   ]
  }
 ],
 "metadata": {
  "kernelspec": {
   "display_name": "Python 3",
   "language": "python",
   "name": "python3"
  },
  "language_info": {
   "codemirror_mode": {
    "name": "ipython",
    "version": 3
   },
   "file_extension": ".py",
   "mimetype": "text/x-python",
   "name": "python",
   "nbconvert_exporter": "python",
   "pygments_lexer": "ipython3",
   "version": "3.7.9"
  }
 },
 "nbformat": 4,
 "nbformat_minor": 4
}
