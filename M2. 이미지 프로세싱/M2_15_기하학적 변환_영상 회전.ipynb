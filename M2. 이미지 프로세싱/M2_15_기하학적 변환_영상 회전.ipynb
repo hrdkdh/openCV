{
 "cells": [
  {
   "cell_type": "code",
   "execution_count": 1,
   "metadata": {},
   "outputs": [],
   "source": [
    "import cv2\n",
    "import numpy as np\n",
    "\n",
    "src = cv2.imread(\"../images/field.bmp\")\n",
    "\n",
    "rad = 20 * np.pi / 180  # radian 계산, 반시계방향 20도 회전\n",
    "aff = np.array([[np.cos(rad), np.sin(rad), 0],   #어파인 2 x 3  행렬식, 반시계 방향 20도\n",
    "                [-np.sin(rad), np.cos(rad), 0]], dtype=np.float32)\n",
    "dst1 = cv2.warpAffine(src, aff, (0, 0))  # 반시계 방향 20도 회전, 크기 동일\n",
    "\n",
    "cp = (src.shape[1] / 2, src.shape[0] / 2)  # 중심점 구하기, width, height\n",
    "rot = cv2.getRotationMatrix2D(cp, 20, 1) # cp를 중심으로 20도 회전하는 어파인 행렬 계산, 크기 동일\n",
    "dst2 = cv2.warpAffine(src, rot, (0, 0)) # 반시계 방향 20도 회전, 크기 동일\n",
    "\n",
    "cv2.imshow(\"src\", src)\n",
    "cv2.imshow(\"dst1\", dst1)\n",
    "cv2.imshow(\"dst2\", dst2)\n",
    "\n",
    "cv2.waitKey()\n",
    "cv2.destroyAllWindows() \n"
   ]
  }
 ],
 "metadata": {
  "kernelspec": {
   "display_name": "Python 3",
   "language": "python",
   "name": "python3"
  },
  "language_info": {
   "codemirror_mode": {
    "name": "ipython",
    "version": 3
   },
   "file_extension": ".py",
   "mimetype": "text/x-python",
   "name": "python",
   "nbconvert_exporter": "python",
   "pygments_lexer": "ipython3",
   "version": "3.7.9"
  }
 },
 "nbformat": 4,
 "nbformat_minor": 4
}
