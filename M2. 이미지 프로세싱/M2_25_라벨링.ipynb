{
 "cells": [
  {
   "cell_type": "code",
   "execution_count": 1,
   "metadata": {},
   "outputs": [],
   "source": [
    "import cv2\n",
    "import numpy as np\n",
    "\n",
    "src = cv2.imread(\"../images/number.jpg\", cv2.IMREAD_GRAYSCALE)  # 그레이스케일로 읽기\n",
    "_, src_bin = cv2.threshold(src, 0, 255, cv2.THRESH_BINARY_INV|cv2.THRESH_OTSU) #영상 이진화\n",
    "cnt, labels, stats, centroids = cv2.connectedComponentsWithStats(src_bin)  #라벨링\n",
    "dst = cv2.cvtColor(src, cv2.COLOR_GRAY2BGR)   #바운딩 박스를 컬러로 그리기 위해 변환\n",
    "\n",
    "for i in range(1, cnt):                 # 배경 제외 1번부터 cnt-1 까지 반복\n",
    "    (x, y, w, h, area) = stats[i]\n",
    "    if area < 20:           #면적이 20보다 작으면 제외\n",
    "        continue\n",
    "    cv2.rectangle(dst, (x, y, w, h), (0, 0, 255))\n",
    "\n",
    "cv2.imshow(\"src\", src)\n",
    "cv2.imshow(\"dst\", dst)\n",
    "\n",
    "cv2.waitKey()\n",
    "cv2.destroyAllWindows()\n"
   ]
  }
 ],
 "metadata": {
  "kernelspec": {
   "display_name": "Python 3",
   "language": "python",
   "name": "python3"
  },
  "language_info": {
   "codemirror_mode": {
    "name": "ipython",
    "version": 3
   },
   "file_extension": ".py",
   "mimetype": "text/x-python",
   "name": "python",
   "nbconvert_exporter": "python",
   "pygments_lexer": "ipython3",
   "version": "3.7.9"
  }
 },
 "nbformat": 4,
 "nbformat_minor": 4
}
