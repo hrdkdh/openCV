{
 "cells": [
  {
   "cell_type": "code",
   "execution_count": 1,
   "metadata": {},
   "outputs": [],
   "source": [
    "import cv2\n",
    "\n",
    "src = cv2.imread(\"../images/circuit.jpg\", cv2.IMREAD_GRAYSCALE)\n",
    "\n",
    "se = cv2.getStructuringElement(cv2.MORPH_RECT, (3, 3))  #필터 모양, 크기 지정\n",
    "ero = cv2.erode(src, se)  #침식\n",
    "dia = cv2.dilate(src, None)  #팽창, 필터 크기를 3,3으로 자동 설정\n",
    "\n",
    "cv2.imshow(\"src\", src) \n",
    "cv2.imshow(\"ero\", ero)\n",
    "cv2.imshow(\"dia\", dia)\n",
    "\n",
    "cv2.waitKey()\n",
    "cv2.destroyAllWindows()\n"
   ]
  }
 ],
 "metadata": {
  "kernelspec": {
   "display_name": "Python 3",
   "language": "python",
   "name": "python3"
  },
  "language_info": {
   "codemirror_mode": {
    "name": "ipython",
    "version": 3
   },
   "file_extension": ".py",
   "mimetype": "text/x-python",
   "name": "python",
   "nbconvert_exporter": "python",
   "pygments_lexer": "ipython3",
   "version": "3.7.9"
  }
 },
 "nbformat": 4,
 "nbformat_minor": 4
}
