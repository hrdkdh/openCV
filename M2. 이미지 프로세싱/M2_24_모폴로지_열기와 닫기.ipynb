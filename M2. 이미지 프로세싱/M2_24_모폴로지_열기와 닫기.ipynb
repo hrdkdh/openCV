{
 "cells": [
  {
   "cell_type": "code",
   "execution_count": 1,
   "metadata": {},
   "outputs": [],
   "source": [
    "import cv2\n",
    "\n",
    "src = cv2.imread(\"../images/circuit.jpg\", cv2.IMREAD_GRAYSCALE)\n",
    "\n",
    "op = cv2.morphologyEx(src, cv2.MORPH_OPEN, None)  #열기, 필터 크기 3X3\n",
    "cl = cv2.morphologyEx(src, cv2.MORPH_CLOSE, None) #닫기, 필터 크기 3X3\n",
    "\n",
    "cv2.imshow(\"src\", src) \n",
    "cv2.imshow(\"open\", op)\n",
    "cv2.imshow(\"close\", cl)\n",
    "\n",
    "cv2.waitKey()\n",
    "cv2.destroyAllWindows()\n"
   ]
  }
 ],
 "metadata": {
  "kernelspec": {
   "display_name": "Python 3",
   "language": "python",
   "name": "python3"
  },
  "language_info": {
   "codemirror_mode": {
    "name": "ipython",
    "version": 3
   },
   "file_extension": ".py",
   "mimetype": "text/x-python",
   "name": "python",
   "nbconvert_exporter": "python",
   "pygments_lexer": "ipython3",
   "version": "3.7.9"
  }
 },
 "nbformat": 4,
 "nbformat_minor": 4
}
