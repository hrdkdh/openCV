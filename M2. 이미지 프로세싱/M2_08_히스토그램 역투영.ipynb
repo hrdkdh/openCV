{
 "cells": [
  {
   "cell_type": "code",
   "execution_count": null,
   "metadata": {},
   "outputs": [],
   "source": [
    "import cv2\n",
    "\n",
    "ref = cv2.imread(\"../images/child1.png\", cv2.IMREAD_COLOR) #살색 히스토그램의 기준이 되는 영상 로드\n",
    "mask = cv2.imread(\"../images/child1_mask.png\", cv2.IMREAD_GRAYSCALE) #살색 영역 마스크 영상 로드\n",
    "ref_ycrcb = cv2.cvtColor(ref, cv2.COLOR_BGR2YCrCb)  #기준 영상 YCrCb로 변환\n",
    "\n",
    "channels = [1, 2]\n",
    "ranges = [0, 256, 0, 256]\n",
    "hist = cv2.calcHist([ref_ycrcb], channels, mask, [256, 256], ranges)\n",
    "hist_norm = cv2.normalize(cv2.log(hist + 1), None, 0, 255, cv2.NORM_MINMAX, cv2.CV_8U)\n",
    "\n",
    "src = cv2.imread(\"../images/child2.png\", cv2.IMREAD_COLOR) # 입력 영상에 히스토그램 역투영 적용\n",
    "src_ycrcb = cv2.cvtColor(src, cv2.COLOR_BGR2YCrCb)\n",
    "backproj = cv2.calcBackProject([src_ycrcb], channels, hist, ranges, 0.5)\n",
    "\n",
    "cv2.imshow(\"ref\", ref)\n",
    "cv2.imshow(\"mask\", mask)\n",
    "cv2.imshow(\"src\", src)\n",
    "cv2.imshow(\"backproj\", backproj)\n",
    "\n",
    "cv2.waitKey() \n",
    "cv2.destroyAllWindows()"
   ]
  }
 ],
 "metadata": {
  "kernelspec": {
   "display_name": "Python 3",
   "language": "python",
   "name": "python3"
  },
  "language_info": {
   "codemirror_mode": {
    "name": "ipython",
    "version": 3
   },
   "file_extension": ".py",
   "mimetype": "text/x-python",
   "name": "python",
   "nbconvert_exporter": "python",
   "pygments_lexer": "ipython3",
   "version": "3.7.9"
  }
 },
 "nbformat": 4,
 "nbformat_minor": 4
}
