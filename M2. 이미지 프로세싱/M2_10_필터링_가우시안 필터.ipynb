{
 "cells": [
  {
   "cell_type": "code",
   "execution_count": null,
   "metadata": {},
   "outputs": [],
   "source": [
    "import cv2\n",
    "\n",
    "src = cv2.imread(\"../images/rose.jpg\", cv2.IMREAD_GRAYSCALE)\n",
    "\n",
    "dst1 = cv2.GaussianBlur(src, (0,0), 1)    #sigma 1 필터 적용, 커널 크기는 자동 결정 \n",
    "dst2 = cv2.GaussianBlur(src, (0,0), 3)    #sigma 3 필터 적용, 커널 크기는 자동 결정\n",
    "cv2.imshow(\"src\", src)\n",
    "cv2.imshow(\"sigma 1\", dst1)\n",
    "cv2.imshow(\"sigma 3\", dst2)\n",
    "\n",
    "cv2.waitKey()\n",
    "cv2.destroyAllWindows()\n"
   ]
  }
 ],
 "metadata": {
  "kernelspec": {
   "display_name": "Python 3",
   "language": "python",
   "name": "python3"
  },
  "language_info": {
   "codemirror_mode": {
    "name": "ipython",
    "version": 3
   },
   "file_extension": ".py",
   "mimetype": "text/x-python",
   "name": "python",
   "nbconvert_exporter": "python",
   "pygments_lexer": "ipython3",
   "version": "3.7.9"
  }
 },
 "nbformat": 4,
 "nbformat_minor": 4
}
