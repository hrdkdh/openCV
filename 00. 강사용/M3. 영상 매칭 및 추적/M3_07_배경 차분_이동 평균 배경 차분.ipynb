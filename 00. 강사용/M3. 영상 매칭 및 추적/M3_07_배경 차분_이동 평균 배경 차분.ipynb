{
 "cells": [
  {
   "cell_type": "code",
   "execution_count": 4,
   "metadata": {},
   "outputs": [],
   "source": [
    "import cv2\n",
    "import numpy as np\n",
    "\n",
    "cap = cv2.VideoCapture(\"../images/PETS2000.avi\")\n",
    "_, back = cap.read()\n",
    "back_gray = cv2.cvtColor(back, cv2.COLOR_BGR2GRAY)\n",
    "back_blur = cv2.GaussianBlur(back_gray, None, 1.0)\n",
    "fback = back_blur.astype(np.float32)\n",
    "while True:\n",
    "    ret, frame = cap.read()\n",
    "    if ret is False:\n",
    "        break\n",
    "    gray = cv2.cvtColor(frame, cv2.COLOR_BGR2GRAY)\n",
    "    blur = cv2.GaussianBlur(gray, None, 1.0)\n",
    "    cv2.accumulateWeighted(blur, fback, 0.01)\n",
    "    back = fback.astype(np.uint8)\n",
    "    diff = cv2.absdiff(blur, back)\n",
    "    _, diff_threshold = cv2.threshold(diff, 30, 255, cv2.THRESH_BINARY)\n",
    "    cnt, _, stats, _ = cv2.connectedComponentsWithStats(diff_threshold)\n",
    "    for i in range(1, cnt):\n",
    "        (x, y, w, h, area) = stats[i]\n",
    "        if area < 200: #라벨링한 면적이 200보다 작으면 제외\n",
    "            continue\n",
    "        cv2.rectangle(frame, (x, y, w, h), (0, 0, 255))\n",
    "    cv2.imshow(\"org\", frame)\n",
    "    cv2.imshow(\"diff\", diff)\n",
    "    cv2.imshow(\"back\", back)\n",
    "    if cv2.waitKey(20) == 27:\n",
    "        break\n",
    "\n",
    "cap.release()\n",
    "cv2.destroyAllWindows()\n",
    "\n"
   ]
  }
 ],
 "metadata": {
  "kernelspec": {
   "display_name": "Python 3",
   "language": "python",
   "name": "python3"
  },
  "language_info": {
   "codemirror_mode": {
    "name": "ipython",
    "version": 3
   },
   "file_extension": ".py",
   "mimetype": "text/x-python",
   "name": "python",
   "nbconvert_exporter": "python",
   "pygments_lexer": "ipython3",
   "version": "3.7.9"
  }
 },
 "nbformat": 4,
 "nbformat_minor": 4
}
