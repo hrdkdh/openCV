{
 "cells": [
  {
   "cell_type": "code",
   "execution_count": 1,
   "metadata": {},
   "outputs": [],
   "source": [
    "import cv2\n",
    "\n",
    "src = cv2.imread(\"../images/building.jpg\", cv2.IMREAD_GRAYSCALE)\n",
    "corners = cv2.goodFeaturesToTrack(src, 400, 0.01, 10)\n",
    "dst1 = cv2.cvtColor(src, cv2.COLOR_GRAY2BGR)\n",
    "if corners is not None:\n",
    "    for corner in corners:\n",
    "        pt = (int(corner[0][0]), int(corner[0][1]))\n",
    "        cv2.circle(dst1, pt, 5, (0, 0, 255), 2)\n",
    "\n",
    "fast = cv2.FastFeatureDetector_create(60)\n",
    "keypoints = fast.detect(src)\n",
    "dst2 = cv2.cvtColor(src, cv2.COLOR_GRAY2BGR)\n",
    "for kp in keypoints:\n",
    "    pt = (int(kp.pt[0]), int(kp.pt[1]))\n",
    "    cv2.circle(dst2, pt, 5, (0, 0, 255), 2)\n",
    "\n",
    "cv2.imshow(\"dst1\", dst1)\n",
    "cv2.imshow(\"dst2\", dst2)\n",
    "\n",
    "cv2.waitKey()\n",
    "cv2.destroyAllWindows()\n",
    "\n"
   ]
  }
 ],
 "metadata": {
  "kernelspec": {
   "display_name": "Python 3.9.10 ('venv_tf_3.9')",
   "language": "python",
   "name": "python3"
  },
  "language_info": {
   "codemirror_mode": {
    "name": "ipython",
    "version": 3
   },
   "file_extension": ".py",
   "mimetype": "text/x-python",
   "name": "python",
   "nbconvert_exporter": "python",
   "pygments_lexer": "ipython3",
   "version": "3.9.10"
  },
  "vscode": {
   "interpreter": {
    "hash": "aaf533d5ae3a3d7a7fcdd7d995dbe2f3fcb3d854cc4805079aca601e58923c31"
   }
  }
 },
 "nbformat": 4,
 "nbformat_minor": 4
}
