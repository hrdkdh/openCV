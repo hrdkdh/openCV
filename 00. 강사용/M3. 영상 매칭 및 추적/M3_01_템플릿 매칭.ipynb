{
 "cells": [
  {
   "cell_type": "code",
   "execution_count": 1,
   "metadata": {},
   "outputs": [],
   "source": [
    "import cv2\n",
    "\n",
    "src_color = cv2.imread(\"../images/circuit_board_resized.jpg\", cv2.IMREAD_COLOR)\n",
    "src = cv2.imread(\"../images/circuit_board_resized.jpg\", cv2.IMREAD_GRAYSCALE)\n",
    "template = cv2.imread(\"../images/circuit_board_template.jpg\", cv2.IMREAD_GRAYSCALE)\n",
    "\n",
    "res = cv2.matchTemplate(src, template, cv2.TM_CCOEFF_NORMED)\n",
    "res_norm = cv2.normalize(res, None, 0, 255, cv2.NORM_MINMAX, cv2.CV_8U)\n",
    "\n",
    "_, maxv, _, maxloc = cv2.minMaxLoc(res)\n",
    "th, tw = template.shape[:2]\n",
    "cv2.rectangle(src_color, maxloc, (maxloc[0] + tw,  maxloc[1] + th), (0, 0, 255), 6)\n",
    "\n",
    "cv2.imshow(\"src\", src)\n",
    "cv2.imshow(\"template\", template)\n",
    "cv2.imshow(\"res_norm\", res_norm)\n",
    "cv2.imshow(\"dst\", src_color)\n",
    "\n",
    "cv2.waitKey()\n",
    "cv2.destroyAllWindows()\n"
   ]
  }
 ],
 "metadata": {
  "kernelspec": {
   "display_name": "Python 3",
   "language": "python",
   "name": "python3"
  },
  "language_info": {
   "codemirror_mode": {
    "name": "ipython",
    "version": 3
   },
   "file_extension": ".py",
   "mimetype": "text/x-python",
   "name": "python",
   "nbconvert_exporter": "python",
   "pygments_lexer": "ipython3",
   "version": "3.7.9"
  }
 },
 "nbformat": 4,
 "nbformat_minor": 4
}
