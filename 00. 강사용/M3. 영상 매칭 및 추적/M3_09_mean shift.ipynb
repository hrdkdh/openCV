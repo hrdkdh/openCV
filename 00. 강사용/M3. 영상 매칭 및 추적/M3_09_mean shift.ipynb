{
 "cells": [
  {
   "cell_type": "code",
   "execution_count": 2,
   "metadata": {},
   "outputs": [],
   "source": [
    "import cv2\n",
    "\n",
    "cap = cv2.VideoCapture(\"../images/woman_who_is_running.avi\")\n",
    "\n",
    "ret, frame = cap.read()\n",
    "cv2.imshow(\"selectROI\", frame) #ROI 선택을 위해 영상 첫번째 프레임을 불러와 출력\n",
    "x, y, w, h = cv2.selectROI(\"selectROI\", frame) #ROI선택함수 실행, ROI 선택 인터페이스 출력\n",
    "\n",
    "rc = (x, y, w, h) #선택한 ROI영역의 좌표정보를 튜플로 rc 변수에 저장\n",
    "roi = frame[y:y+h, x:x+w] #선택한 ROI영역을 frame에서 크롭(crop)한 후 roi변수에 저장\n",
    "roi_hsv = cv2.cvtColor(roi, cv2.COLOR_BGR2HSV) #색상 히스토그램 생성을 위해 크롭한 영역을 HSV색공간으로 변환\n",
    "channels = [0, 1] #히스토그램 생성시 사용할 색정보 채널을 H, S로 선택\n",
    "ranges = [0, 180, 0, 256] #H의 범위는 0~179, S의 범위는 0~255로 설정\n",
    "\n",
    "hist = cv2.calcHist([roi_hsv], channels, None, [200, 200], ranges) #색상 히스토그램 생성하여 hist 변수에 저장\n",
    "\n",
    "term_crit = (cv2.TERM_CRITERIA_EPS | cv2.TERM_CRITERIA_COUNT, 10, 1) #mean shift 알고리즘 종료기준 설정\n",
    "while True: #동영상 실시간 처리\n",
    "    ret, frame = cap.read()\n",
    "    if ret is False:\n",
    "        break\n",
    "    #불러온 frame을 hist를 이용, 역투영하기 위해 HSV색공간으로 변환\n",
    "    hsv = cv2.cvtColor(frame, cv2.COLOR_BGR2HSV)\n",
    "    #frame에 hist를 역투영하여 부합하는 색정보만 남기고 제거, backproj 변수에 저장\n",
    "    backproj = cv2.calcBackProject([hsv], channels, hist, ranges, 1)\n",
    "    _, rc = cv2.meanShift(backproj, rc, term_crit) #backproj에 mean shift 실행\n",
    "    cv2.rectangle(frame, rc, (0, 0, 255), 2) #mean shift된 window 좌표에 사각형 생성\n",
    "    cv2.imshow(\"frame\", frame)\n",
    "    if cv2.waitKey(25) == 27:\n",
    "        break\n",
    "        \n",
    "cap.release()\n",
    "cv2.destroyAllWindows()\n"
   ]
  }
 ],
 "metadata": {
  "kernelspec": {
   "display_name": "Python 3",
   "language": "python",
   "name": "python3"
  },
  "language_info": {
   "codemirror_mode": {
    "name": "ipython",
    "version": 3
   },
   "file_extension": ".py",
   "mimetype": "text/x-python",
   "name": "python",
   "nbconvert_exporter": "python",
   "pygments_lexer": "ipython3",
   "version": "3.7.9"
  }
 },
 "nbformat": 4,
 "nbformat_minor": 4
}
