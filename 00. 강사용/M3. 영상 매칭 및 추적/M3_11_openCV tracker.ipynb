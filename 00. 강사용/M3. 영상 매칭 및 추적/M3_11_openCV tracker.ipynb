{
 "cells": [
  {
   "cell_type": "code",
   "execution_count": 2,
   "metadata": {},
   "outputs": [],
   "source": [
    "import cv2\n",
    "\n",
    "cap = cv2.VideoCapture(\"../images/running_kid_with_balloon.avi\")\n",
    "\n",
    "tracker = cv2.TrackerKCF_create()\n",
    "ret, frame = cap.read()\n",
    "\n",
    "rc = cv2.selectROI(\"selectROI\", frame)\n",
    "tracker.init(frame, rc)\n",
    "\n",
    "while True:\n",
    "    ret, frame = cap.read()\n",
    "    if ret:\n",
    "        _, rc = tracker.update(frame)\n",
    "        cv2.rectangle(frame, tuple(rc), (0, 0, 255), 2)\n",
    "        cv2.imshow(\"opencv_tracker\", frame)\n",
    "\n",
    "        if cv2.waitKey(1) == 27:\n",
    "            break\n",
    "    else:\n",
    "        break\n",
    "        \n",
    "cap.release()\n",
    "cv2.destroyAllWindows()\n"
   ]
  }
 ],
 "metadata": {
  "kernelspec": {
   "display_name": "Python 3",
   "language": "python",
   "name": "python3"
  },
  "language_info": {
   "codemirror_mode": {
    "name": "ipython",
    "version": 3
   },
   "file_extension": ".py",
   "mimetype": "text/x-python",
   "name": "python",
   "nbconvert_exporter": "python",
   "pygments_lexer": "ipython3",
   "version": "3.7.9"
  }
 },
 "nbformat": 4,
 "nbformat_minor": 4
}
