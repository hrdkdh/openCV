{
 "cells": [
  {
   "cell_type": "code",
   "execution_count": 2,
   "metadata": {},
   "outputs": [],
   "source": [
    "import cv2\n",
    "\n",
    "cap = cv2.VideoCapture(\"../images/PETS2000.avi\")\n",
    "bs = cv2.createBackgroundSubtractorMOG2()\n",
    "#bs = cv2.createBackgroundSubtractorKNN() #KNN 방식으로 배경 차분할 경우 사용\n",
    "while True:\n",
    "    ret, frame = cap.read()\n",
    "    if ret is False:\n",
    "        break\n",
    "    gray = cv2.cvtColor(frame, cv2.COLOR_BGR2GRAY)\n",
    "    fgmask = bs.apply(gray) #0또는 128또는 255로 구성된 fgmask 생성\n",
    "    back = bs.getBackgroundImage() #배경 영상 받아오기\n",
    "    cnt, _, stats, _ = cv2.connectedComponentsWithStats(fgmask) #라벨링을 이용하여 바운딩 박스 표시\n",
    "    for i in range(1, cnt):\n",
    "        (x, y, w, h, area) = stats[i]\n",
    "        if area < 80: #라벨링한 면적이 80보다 작으면 제외\n",
    "            continue\n",
    "        cv2.rectangle(frame, (x, y, w, h), (0, 0, 255))\n",
    "\n",
    "    cv2.imshow(\"org\", frame)\n",
    "    cv2.imshow(\"back\", back)\n",
    "    cv2.imshow(\"fgmask\", fgmask)\n",
    "\n",
    "    if cv2.waitKey(20) == 27:\n",
    "        break\n",
    "\n",
    "cv2.destroyAllWindows()"
   ]
  }
 ],
 "metadata": {
  "kernelspec": {
   "display_name": "Python 3",
   "language": "python",
   "name": "python3"
  },
  "language_info": {
   "codemirror_mode": {
    "name": "ipython",
    "version": 3
   },
   "file_extension": ".py",
   "mimetype": "text/x-python",
   "name": "python",
   "nbconvert_exporter": "python",
   "pygments_lexer": "ipython3",
   "version": "3.7.9"
  }
 },
 "nbformat": 4,
 "nbformat_minor": 4
}
