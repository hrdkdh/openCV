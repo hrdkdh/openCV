{
 "cells": [
  {
   "cell_type": "code",
   "execution_count": null,
   "metadata": {
    "id": "e89mKhOcOZ4A"
   },
   "outputs": [],
   "source": [
    "import tensorflow_datasets as tfds\n",
    "import tensorflow as tf\n",
    "import matplotlib.pyplot as plt\n",
    "import cv2\n",
    "import os\n",
    "import json\n",
    "from google.colab import drive"
   ]
  },
  {
   "cell_type": "code",
   "execution_count": null,
   "metadata": {
    "colab": {
     "base_uri": "https://localhost:8080/"
    },
    "id": "4Yjm6_s78GTY",
    "outputId": "c9652e1c-0d49-4795-8589-b416f03a7151"
   },
   "outputs": [
    {
     "name": "stdout",
     "output_type": "stream",
     "text": [
      "Drive already mounted at /content/drive/; to attempt to forcibly remount, call drive.mount(\"/content/drive/\", force_remount=True).\n"
     ]
    },
    {
     "data": {
      "text/plain": [
       "['test.ipynb',\n",
       " 'mnist.ipynb',\n",
       " 'face_recorded_files',\n",
       " 'models',\n",
       " 'pgu_face_training.ipynb',\n",
       " 'pgu_face_training.ipynb의 사본',\n",
       " 'mnist_training.ipynb']"
      ]
     },
     "execution_count": 8,
     "metadata": {
      "tags": []
     },
     "output_type": "execute_result"
    }
   ],
   "source": [
    "drive.mount(\"/content/drive/\")\n",
    "os.listdir(\"drive/MyDrive/Colab Notebooks/\")"
   ]
  },
  {
   "cell_type": "code",
   "execution_count": null,
   "metadata": {
    "colab": {
     "base_uri": "https://localhost:8080/"
    },
    "id": "22XRakCEPpiP",
    "outputId": "009bb29e-1fab-4e33-dbd4-0a7773518f16"
   },
   "outputs": [
    {
     "name": "stdout",
     "output_type": "stream",
     "text": [
      "(60000, 28, 28)\n",
      "(60000,)\n"
     ]
    }
   ],
   "source": [
    "(x_train, y_train), (x_test, y_test) = tf.keras.datasets.mnist.load_data()\n",
    "print(x_train.shape)\n",
    "print(y_train.shape)"
   ]
  },
  {
   "cell_type": "code",
   "execution_count": null,
   "metadata": {
    "colab": {
     "base_uri": "https://localhost:8080/",
     "height": 297
    },
    "id": "DvNeSa8tPrP4",
    "outputId": "ee00908d-8dda-49ea-ca6d-57561a285bbc"
   },
   "outputs": [
    {
     "data": {
      "image/png": "[encoded data removed]",
      "text/plain": [
       "<Figure size 432x288 with 16 Axes>"
      ]
     },
     "metadata": {
      "needs_background": "light",
      "tags": []
     },
     "output_type": "display_data"
    }
   ],
   "source": [
    "rows = 4\n",
    "cols = 4\n",
    "axes=[]\n",
    "fig=plt.figure()\n",
    "\n",
    "for a in range(rows*cols):\n",
    "    axes.append(fig.add_subplot(rows, cols, a+1))\n",
    "    subplot_title=(y_train[a])\n",
    "    axes[-1].set_title(subplot_title)\n",
    "    plt.imshow(x_train[a], cmap=\"gray\")\n",
    "fig.tight_layout()\n",
    "plt.show()"
   ]
  },
  {
   "cell_type": "markdown",
   "metadata": {
    "id": "ZCMne2GQ1PrN"
   },
   "source": [
    "# 일반적인 DNN"
   ]
  },
  {
   "cell_type": "code",
   "execution_count": null,
   "metadata": {
    "colab": {
     "base_uri": "https://localhost:8080/"
    },
    "id": "JMsV2-lf34jb",
    "outputId": "5abeef28-2a0a-4d4e-da95-4a493f1bc729"
   },
   "outputs": [
    {
     "name": "stdout",
     "output_type": "stream",
     "text": [
      "Model: \"sequential\"\n",
      "_________________________________________________________________\n",
      "Layer (type)                 Output Shape              Param #   \n",
      "=================================================================\n",
      "flatten (Flatten)            (None, 784)               0         \n",
      "_________________________________________________________________\n",
      "dense (Dense)                (None, 128)               100480    \n",
      "_________________________________________________________________\n",
      "dense_1 (Dense)              (None, 128)               16512     \n",
      "_________________________________________________________________\n",
      "dense_2 (Dense)              (None, 128)               16512     \n",
      "_________________________________________________________________\n",
      "dense_3 (Dense)              (None, 10)                1290      \n",
      "=================================================================\n",
      "Total params: 134,794\n",
      "Trainable params: 134,794\n",
      "Non-trainable params: 0\n",
      "_________________________________________________________________\n"
     ]
    }
   ],
   "source": [
    "model = tf.keras.Sequential()\n",
    "model.add(tf.keras.layers.Flatten(input_shape=(28, 28)))\n",
    "model.add(tf.keras.layers.Dense(units=128, activation=\"relu\"))\n",
    "model.add(tf.keras.layers.Dense(units=128, activation=\"relu\"))\n",
    "model.add(tf.keras.layers.Dense(units=128, activation=\"relu\"))\n",
    "model.add(tf.keras.layers.Dense(units=10, activation=\"softmax\"))\n",
    "\n",
    "model.compile(\n",
    "    optimizer=tf.keras.optimizers.Adam(), \n",
    "    loss=\"sparse_categorical_crossentropy\", \n",
    "    metrics=[\"accuracy\"]\n",
    ")\n",
    "\n",
    "#계층, 차원, 파라미터 수 요약 확인\n",
    "model.summary()"
   ]
  },
  {
   "cell_type": "code",
   "execution_count": null,
   "metadata": {
    "colab": {
     "base_uri": "https://localhost:8080/",
     "height": 1000
    },
    "id": "5aOJ26lF7m4u",
    "outputId": "2328595f-fa34-4336-cb46-001ac9281855"
   },
   "outputs": [
    {
     "name": "stdout",
     "output_type": "stream",
     "text": [
      "Epoch 1/50\n",
      "1407/1407 [==============================] - 8s 4ms/step - loss: 2.6128 - accuracy: 0.7815 - val_loss: 0.3180 - val_accuracy: 0.9155\n",
      "Epoch 2/50\n",
      "1407/1407 [==============================] - 5s 3ms/step - loss: 0.2398 - accuracy: 0.9330 - val_loss: 0.2627 - val_accuracy: 0.9326\n",
      "Epoch 3/50\n",
      "1407/1407 [==============================] - 5s 3ms/step - loss: 0.1946 - accuracy: 0.9432 - val_loss: 0.2016 - val_accuracy: 0.9459\n",
      "Epoch 4/50\n",
      "1407/1407 [==============================] - 5s 3ms/step - loss: 0.1549 - accuracy: 0.9548 - val_loss: 0.1817 - val_accuracy: 0.9485\n",
      "Epoch 5/50\n",
      "1407/1407 [==============================] - 5s 3ms/step - loss: 0.1250 - accuracy: 0.9634 - val_loss: 0.1687 - val_accuracy: 0.9543\n",
      "Epoch 6/50\n",
      "1407/1407 [==============================] - 5s 3ms/step - loss: 0.1119 - accuracy: 0.9665 - val_loss: 0.1722 - val_accuracy: 0.9543\n",
      "Epoch 7/50\n",
      "1407/1407 [==============================] - 5s 4ms/step - loss: 0.1052 - accuracy: 0.9695 - val_loss: 0.2091 - val_accuracy: 0.9479\n",
      "Epoch 8/50\n",
      "1407/1407 [==============================] - 5s 4ms/step - loss: 0.0926 - accuracy: 0.9734 - val_loss: 0.1544 - val_accuracy: 0.9595\n",
      "Epoch 9/50\n",
      "1407/1407 [==============================] - 5s 3ms/step - loss: 0.0759 - accuracy: 0.9776 - val_loss: 0.1668 - val_accuracy: 0.9593\n",
      "Epoch 10/50\n",
      "1407/1407 [==============================] - 5s 3ms/step - loss: 0.0769 - accuracy: 0.9771 - val_loss: 0.1620 - val_accuracy: 0.9607\n",
      "Epoch 11/50\n",
      "1407/1407 [==============================] - 5s 3ms/step - loss: 0.0748 - accuracy: 0.9782 - val_loss: 0.1659 - val_accuracy: 0.9637\n",
      "Epoch 12/50\n",
      "1407/1407 [==============================] - 5s 3ms/step - loss: 0.0651 - accuracy: 0.9820 - val_loss: 0.1606 - val_accuracy: 0.9652\n",
      "Epoch 13/50\n",
      "1407/1407 [==============================] - 5s 3ms/step - loss: 0.0593 - accuracy: 0.9831 - val_loss: 0.1789 - val_accuracy: 0.9633\n",
      "Epoch 14/50\n",
      "1407/1407 [==============================] - 5s 4ms/step - loss: 0.0569 - accuracy: 0.9848 - val_loss: 0.1589 - val_accuracy: 0.9679\n",
      "Epoch 15/50\n",
      "1407/1407 [==============================] - 5s 3ms/step - loss: 0.0547 - accuracy: 0.9840 - val_loss: 0.1598 - val_accuracy: 0.9695\n",
      "Epoch 16/50\n",
      "1407/1407 [==============================] - 5s 3ms/step - loss: 0.0537 - accuracy: 0.9854 - val_loss: 0.1793 - val_accuracy: 0.9671\n",
      "Epoch 17/50\n",
      "1407/1407 [==============================] - 5s 4ms/step - loss: 0.0471 - accuracy: 0.9878 - val_loss: 0.1831 - val_accuracy: 0.9665\n",
      "Epoch 18/50\n",
      "1407/1407 [==============================] - 5s 4ms/step - loss: 0.0403 - accuracy: 0.9898 - val_loss: 0.1808 - val_accuracy: 0.9619\n",
      "Epoch 19/50\n",
      "1407/1407 [==============================] - 5s 4ms/step - loss: 0.0402 - accuracy: 0.9888 - val_loss: 0.2080 - val_accuracy: 0.9638\n",
      "Epoch 20/50\n",
      "1407/1407 [==============================] - 5s 4ms/step - loss: 0.0500 - accuracy: 0.9878 - val_loss: 0.1728 - val_accuracy: 0.9713\n",
      "Epoch 21/50\n",
      "1407/1407 [==============================] - 5s 4ms/step - loss: 0.0353 - accuracy: 0.9911 - val_loss: 0.1712 - val_accuracy: 0.9705\n",
      "Epoch 22/50\n",
      "1407/1407 [==============================] - 5s 4ms/step - loss: 0.0420 - accuracy: 0.9903 - val_loss: 0.2129 - val_accuracy: 0.9663\n",
      "Epoch 23/50\n",
      "1407/1407 [==============================] - 5s 3ms/step - loss: 0.0508 - accuracy: 0.9873 - val_loss: 0.2439 - val_accuracy: 0.9611\n",
      "Epoch 24/50\n",
      "1407/1407 [==============================] - 5s 4ms/step - loss: 0.0337 - accuracy: 0.9913 - val_loss: 0.2029 - val_accuracy: 0.9711\n",
      "Epoch 25/50\n",
      "1407/1407 [==============================] - 5s 3ms/step - loss: 0.0315 - accuracy: 0.9914 - val_loss: 0.2276 - val_accuracy: 0.9653\n",
      "Epoch 26/50\n",
      "1407/1407 [==============================] - 5s 4ms/step - loss: 0.0495 - accuracy: 0.9891 - val_loss: 0.2063 - val_accuracy: 0.9731\n",
      "Epoch 27/50\n",
      "1407/1407 [==============================] - 5s 4ms/step - loss: 0.0306 - accuracy: 0.9928 - val_loss: 0.2865 - val_accuracy: 0.9637\n",
      "Epoch 28/50\n",
      "1407/1407 [==============================] - 5s 4ms/step - loss: 0.0463 - accuracy: 0.9902 - val_loss: 0.2456 - val_accuracy: 0.9685\n",
      "Epoch 29/50\n",
      "1407/1407 [==============================] - 5s 4ms/step - loss: 0.0349 - accuracy: 0.9916 - val_loss: 0.2210 - val_accuracy: 0.9711\n",
      "Epoch 30/50\n",
      "1407/1407 [==============================] - 5s 4ms/step - loss: 0.0303 - accuracy: 0.9926 - val_loss: 0.1862 - val_accuracy: 0.9710\n",
      "Epoch 31/50\n",
      "1407/1407 [==============================] - 5s 3ms/step - loss: 0.0386 - accuracy: 0.9907 - val_loss: 0.2464 - val_accuracy: 0.9715\n",
      "Epoch 32/50\n",
      "1407/1407 [==============================] - 5s 4ms/step - loss: 0.0276 - accuracy: 0.9937 - val_loss: 0.2597 - val_accuracy: 0.9709\n",
      "Epoch 33/50\n",
      "1407/1407 [==============================] - 5s 4ms/step - loss: 0.0438 - accuracy: 0.9925 - val_loss: 0.2090 - val_accuracy: 0.9747\n",
      "Epoch 34/50\n",
      "1407/1407 [==============================] - 5s 4ms/step - loss: 0.0311 - accuracy: 0.9933 - val_loss: 0.2467 - val_accuracy: 0.9698\n",
      "Epoch 35/50\n",
      "1407/1407 [==============================] - 5s 4ms/step - loss: 0.0314 - accuracy: 0.9929 - val_loss: 0.2441 - val_accuracy: 0.9682\n",
      "Epoch 36/50\n",
      "1407/1407 [==============================] - 5s 4ms/step - loss: 0.0287 - accuracy: 0.9934 - val_loss: 0.3079 - val_accuracy: 0.9703\n",
      "Epoch 37/50\n",
      "1407/1407 [==============================] - 5s 4ms/step - loss: 0.0318 - accuracy: 0.9926 - val_loss: 0.2683 - val_accuracy: 0.9685\n",
      "Epoch 38/50\n",
      "1407/1407 [==============================] - 5s 4ms/step - loss: 0.0340 - accuracy: 0.9925 - val_loss: 0.2532 - val_accuracy: 0.9678\n",
      "Epoch 39/50\n",
      "1407/1407 [==============================] - 5s 4ms/step - loss: 0.0271 - accuracy: 0.9939 - val_loss: 0.2073 - val_accuracy: 0.9700\n",
      "Epoch 40/50\n",
      "1407/1407 [==============================] - 5s 4ms/step - loss: 0.0300 - accuracy: 0.9932 - val_loss: 0.2667 - val_accuracy: 0.9740\n",
      "Epoch 41/50\n",
      "1407/1407 [==============================] - 5s 4ms/step - loss: 0.0264 - accuracy: 0.9943 - val_loss: 0.2982 - val_accuracy: 0.9697\n",
      "Epoch 42/50\n",
      "1407/1407 [==============================] - 5s 4ms/step - loss: 0.0367 - accuracy: 0.9928 - val_loss: 0.2921 - val_accuracy: 0.9717\n",
      "Epoch 43/50\n",
      "1407/1407 [==============================] - 5s 4ms/step - loss: 0.0235 - accuracy: 0.9947 - val_loss: 0.2886 - val_accuracy: 0.9719\n",
      "Epoch 44/50\n",
      "1407/1407 [==============================] - 5s 4ms/step - loss: 0.0268 - accuracy: 0.9951 - val_loss: 0.3135 - val_accuracy: 0.9720\n",
      "Epoch 45/50\n",
      "1407/1407 [==============================] - 5s 4ms/step - loss: 0.0388 - accuracy: 0.9929 - val_loss: 0.3453 - val_accuracy: 0.9676\n",
      "Epoch 46/50\n",
      "1407/1407 [==============================] - 5s 4ms/step - loss: 0.0338 - accuracy: 0.9927 - val_loss: 0.2731 - val_accuracy: 0.9657\n",
      "Epoch 47/50\n",
      "1407/1407 [==============================] - 5s 4ms/step - loss: 0.0327 - accuracy: 0.9927 - val_loss: 0.3093 - val_accuracy: 0.9739\n",
      "Epoch 48/50\n",
      "1407/1407 [==============================] - 5s 4ms/step - loss: 0.0262 - accuracy: 0.9945 - val_loss: 0.3403 - val_accuracy: 0.9681\n",
      "Epoch 49/50\n",
      "1407/1407 [==============================] - 5s 4ms/step - loss: 0.0359 - accuracy: 0.9931 - val_loss: 0.3104 - val_accuracy: 0.9712\n",
      "Epoch 50/50\n",
      "1407/1407 [==============================] - 5s 4ms/step - loss: 0.0280 - accuracy: 0.9936 - val_loss: 0.3178 - val_accuracy: 0.9726\n"
     ]
    },
    {
     "data": {
      "image/png": "[encoded data removed]",
      "text/plain": [
       "<Figure size 864x288 with 2 Axes>"
      ]
     },
     "metadata": {
      "needs_background": "light",
      "tags": []
     },
     "output_type": "display_data"
    }
   ],
   "source": [
    "# GPU 메모리 문제 발생 예방\n",
    "config = tf.compat.v1.ConfigProto(allow_soft_placement=True)\n",
    "config.gpu_options.per_process_gpu_memory_fraction = 0.8\n",
    "tf.compat.v1.keras.backend.set_session(tf.compat.v1.Session(config=config))\n",
    "\n",
    "epoch_counts = 50\n",
    "history = model.fit(\n",
    "    x_train,\n",
    "    y_train,\n",
    "    epochs=epoch_counts,\n",
    "    # batch_size = batch_size,\n",
    "    validation_split=0.25\n",
    "    # callbacks=[early_stopping]\n",
    ")\n",
    "\n",
    "#train loss, validation loss 그래프 출력\n",
    "plt.figure(figsize=(12, 4))\n",
    "plt.subplot(1, 2, 1)\n",
    "plt.plot(history.history[\"loss\"], \"b-\", label=\"loss\")\n",
    "plt.plot(history.history[\"val_loss\"], \"r--\", label=\"val_loss\")\n",
    "plt.xlabel(\"Epoch\")\n",
    "plt.legend()\n",
    "\n",
    "#train accutacy, validation accuracy 그래프 출력\n",
    "plt.subplot(1, 2, 2)\n",
    "plt.plot(history.history[\"accuracy\"], \"g-\", label=\"accuracy\")\n",
    "plt.plot(history.history[\"val_accuracy\"], \"k--\", label=\"val_accuracy\")\n",
    "plt.xlabel(\"Epoch\")\n",
    "plt.ylim(0.7, 1)\n",
    "plt.legend()\n",
    "plt.show()"
   ]
  },
  {
   "cell_type": "code",
   "execution_count": null,
   "metadata": {
    "colab": {
     "base_uri": "https://localhost:8080/"
    },
    "id": "ZsTSeUuM7jy8",
    "outputId": "795dae78-23fc-4159-e7f2-282196b3e690"
   },
   "outputs": [
    {
     "name": "stdout",
     "output_type": "stream",
     "text": [
      "313/313 [==============================] - 1s 2ms/step - loss: 0.2810 - accuracy: 0.9747\n",
      "최종 결과 :  [0.28095483779907227, 0.9746999740600586]\n"
     ]
    }
   ],
   "source": [
    "print(\"최종 결과 : \", model.evaluate(x_test, y_test))\n",
    "\n",
    "class_name_dic_by_no = {\n",
    "    \"0\":\"0\",\n",
    "    \"1\":\"1\",\n",
    "    \"2\":\"2\",\n",
    "    \"3\":\"3\",\n",
    "    \"4\":\"4\",\n",
    "    \"5\":\"5\",\n",
    "    \"6\":\"6\",\n",
    "    \"7\":\"7\",\n",
    "    \"8\":\"8\",\n",
    "    \"9\":\"9\"\n",
    "}\n",
    "\n",
    "#모델 저장\n",
    "try:\n",
    "  pgu_face_model_dir = \"drive/MyDrive/Colab Notebooks/models/mnist_model\"\n",
    "  json_string = model.to_json()\n",
    "  open(pgu_face_model_dir + \"/pgu_mnist_model_dnn_json.json\", \"w\").write(json_string)\n",
    "  model.save_weights(pgu_face_model_dir + \"/pgu_mnist_model_dnn_weights.h5\", overwrite=True)\n",
    "  with open(pgu_face_model_dir + \"/pgu_mnist_model_dnn_names.json\", \"w\") as outfile:\n",
    "      json.dump(class_name_dic_by_no, outfile)\n",
    "except:\n",
    "  print(\"=================================\")\n",
    "  print(\"=================================\")\n",
    "  print(\"모델 저장 중 오류가 발생하였습니다!\")\n",
    "  print(\"=================================\")\n",
    "  print(\"=================================\")\n",
    "finally:\n",
    "  pass"
   ]
  }
 ],
 "metadata": {
  "accelerator": "GPU",
  "colab": {
   "collapsed_sections": [],
   "name": "mnist_training.ipynb",
   "provenance": []
  },
  "kernelspec": {
   "display_name": "Python 3",
   "language": "python",
   "name": "python3"
  },
  "language_info": {
   "codemirror_mode": {
    "name": "ipython",
    "version": 3
   },
   "file_extension": ".py",
   "mimetype": "text/x-python",
   "name": "python",
   "nbconvert_exporter": "python",
   "pygments_lexer": "ipython3",
   "version": "3.7.9"
  }
 },
 "nbformat": 4,
 "nbformat_minor": 1
}
