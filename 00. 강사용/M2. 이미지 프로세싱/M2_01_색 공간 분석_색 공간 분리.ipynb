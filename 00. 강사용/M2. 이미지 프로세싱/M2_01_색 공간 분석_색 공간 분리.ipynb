{
 "cells": [
  {
   "cell_type": "code",
   "execution_count": 1,
   "metadata": {},
   "outputs": [],
   "source": [
    "import cv2\n",
    "\n",
    "img = cv2.imread(\"../images/candy.jpg\")\n",
    "img1 = cv2.cvtColor(img,cv2.COLOR_BGR2HSV)  # BGR 이미지를 HSV로 변환\n",
    "h,s,v = cv2.split(img1) # 색 공간 분리\n",
    "\n",
    "cv2.imshow(\"img\", img)\n",
    "cv2.imshow(\"h\", h)\n",
    "cv2.imshow(\"s\" , s)\n",
    "cv2.imshow(\"v\",v) \n",
    "cv2.waitKey() \n",
    "cv2.destroyAllWindows()"
   ]
  }
 ],
 "metadata": {
  "kernelspec": {
   "display_name": "Python 3",
   "language": "python",
   "name": "python3"
  },
  "language_info": {
   "codemirror_mode": {
    "name": "ipython",
    "version": 3
   },
   "file_extension": ".py",
   "mimetype": "text/x-python",
   "name": "python",
   "nbconvert_exporter": "python",
   "pygments_lexer": "ipython3",
   "version": "3.7.9"
  }
 },
 "nbformat": 4,
 "nbformat_minor": 4
}
