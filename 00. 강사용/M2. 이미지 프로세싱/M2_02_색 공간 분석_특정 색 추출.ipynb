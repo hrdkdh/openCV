{
 "cells": [
  {
   "cell_type": "code",
   "execution_count": 3,
   "metadata": {},
   "outputs": [],
   "source": [
    "import cv2\n",
    "\n",
    "src = cv2.imread(\"../images/candy2.png\")\n",
    "src_hsv = cv2.cvtColor(src, cv2.COLOR_BGR2HSV)  # candy 이미지를 HSV로 변환\n",
    "\n",
    "def on_trackbar(pos): #하나의 창에 여러 트랙바를 달 경우 트랙바 callback 함수는 사용하지 않음\n",
    "    pass\n",
    "\n",
    "cv2.imshow(\"src\", src)\n",
    "cv2.namedWindow(\"dst\")  #dst window 생성\n",
    "\n",
    "cv2.createTrackbar(\"H_min\", \"dst\", 50, 179, on_trackbar) #트랙바 H_min 생성, 초기값 50, 최대값 179\n",
    "cv2.createTrackbar(\"H_max\", \"dst\", 80, 179, on_trackbar) #트랙바 H_max 생성, 초기값 80, 최대값 179\n",
    "\n",
    "while True: #하나의 창에 여러 트랙바를 쓸 경우 무한반복하며 getTrackbarPos 함수로 처리\n",
    "    hmin = cv2.getTrackbarPos(\"H_min\", \"dst\")  # dst 창에서 H_min 값을 얻어서 hmin에 저장\n",
    "    hmax = cv2.getTrackbarPos(\"H_max\", \"dst\") #dst 창에서 H_max 값을 얻어 hmax에 저장\n",
    "    dst = cv2.inRange(src_hsv, (hmin, 150, 0), (hmax, 255, 255)) # H,S,V 특정범위의 행렬 추출\n",
    "    cv2.imshow(\"dst\", dst)\n",
    "    if cv2.waitKey(1) == 27:\n",
    "        break\n",
    "        \n",
    "cv2.destroyAllWindows()"
   ]
  }
 ],
 "metadata": {
  "kernelspec": {
   "display_name": "Python 3",
   "language": "python",
   "name": "python3"
  },
  "language_info": {
   "codemirror_mode": {
    "name": "ipython",
    "version": 3
   },
   "file_extension": ".py",
   "mimetype": "text/x-python",
   "name": "python",
   "nbconvert_exporter": "python",
   "pygments_lexer": "ipython3",
   "version": "3.7.9"
  }
 },
 "nbformat": 4,
 "nbformat_minor": 4
}
