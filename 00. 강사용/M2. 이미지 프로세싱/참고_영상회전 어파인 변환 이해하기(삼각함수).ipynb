{
 "cells": [
  {
   "cell_type": "code",
   "execution_count": 1,
   "id": "7dd7859f",
   "metadata": {},
   "outputs": [],
   "source": [
    "import cv2\n",
    "import math\n",
    "import numpy as np\n",
    "\n",
    "can = None\n",
    "center = None\n",
    "radius = None\n",
    "\n",
    "def drawCircle():\n",
    "    global can, center, radius\n",
    "    can = np.full([800, 800, 3], (255, 255, 255), dtype=np.uint8)\n",
    "    center = (int(can.shape[0]/2), int(can.shape[1]/2))\n",
    "    radius = int(can.shape[0]/4)\n",
    "    cv2.circle(can, center, radius, (100, 100, 100), lineType=cv2.LINE_AA)\n",
    "    cv2.imshow(\"img\", can)\n",
    "\n",
    "def onTrackBar(pos):\n",
    "    global can, center, radius\n",
    "    drawCircle()\n",
    "    rad = math.radians(pos)\n",
    "    cos = int(radius*math.cos(rad))\n",
    "    sin = int(radius*math.sin(rad))\n",
    "    points = (center[0]+cos, center[1]+sin)\n",
    "    hypotenuse = math.sqrt(math.pow(points[0]-(radius*2), 2) + math.pow(points[1]-(radius*2), 2))\n",
    "    \n",
    "    cv2.putText(can, \"degree : {}, radian : {:.3f}, cos : {:.3f}, sin : {:.3f}, tan : {:.3f}\".format(pos, rad, math.cos(rad), math.sin(rad), math.tan(rad)), (20, 20), cv2.FONT_HERSHEY_DUPLEX, 0.5, (50, 50, 50), lineType=cv2.LINE_AA)    \n",
    "    cv2.putText(can, \"hypotenuse : {:.3f}\".format(hypotenuse), (20, 40), cv2.FONT_HERSHEY_DUPLEX, 0.5, (50, 50, 50), lineType=cv2.LINE_AA)    \n",
    "    \n",
    "    cv2.line(can, (center[0]-radius, center[1]), (center[0]+radius, center[1]), (100, 100, 0), lineType=cv2.LINE_AA)\n",
    "    cv2.putText(can, \"({}, {})\".format(radius, 0), (center[0]+radius, center[1]), cv2.FONT_HERSHEY_DUPLEX, 0.5, (50, 50, 50), lineType=cv2.LINE_AA)\n",
    "    \n",
    "    cv2.line(can, center, points, (0, 100, 200), lineType=cv2.LINE_AA)\n",
    "    cv2.line(can, points, (center[0]+cos, center[1]), (0, 100, 200), lineType=cv2.LINE_AA)\n",
    "    cv2.putText(can, \"({}, {})\".format(points[0]-(radius*2), -(points[1]-(radius*2))), (points[0] + 10, points[1] + 10), cv2.FONT_HERSHEY_DUPLEX, 0.5, (50, 50, 50), lineType=cv2.LINE_AA)\n",
    "    cv2.imshow(\"img\", can)\n",
    "    \n",
    "drawCircle()\n",
    "cv2.createTrackbar(\"degree(360)\", \"img\", 0, 360, onTrackBar)  \n",
    "\n",
    "cv2.waitKey()\n",
    "cv2.destroyAllWindows()"
   ]
  }
 ],
 "metadata": {
  "kernelspec": {
   "display_name": "Python 3",
   "language": "python",
   "name": "python3"
  },
  "language_info": {
   "codemirror_mode": {
    "name": "ipython",
    "version": 3
   },
   "file_extension": ".py",
   "mimetype": "text/x-python",
   "name": "python",
   "nbconvert_exporter": "python",
   "pygments_lexer": "ipython3",
   "version": "3.7.9"
  }
 },
 "nbformat": 4,
 "nbformat_minor": 5
}
