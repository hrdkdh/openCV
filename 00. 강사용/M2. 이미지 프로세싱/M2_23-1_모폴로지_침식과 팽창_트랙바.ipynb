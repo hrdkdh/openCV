{
 "cells": [
  {
   "cell_type": "code",
   "execution_count": null,
   "metadata": {},
   "outputs": [],
   "source": [
    "import cv2\n",
    "\n",
    "src_org = cv2.imread(\"../images/circuit.jpg\", cv2.IMREAD_GRAYSCALE)\n",
    "_, src = cv2.threshold(src_org, 60, 255, cv2.THRESH_BINARY)\n",
    "se = cv2.getStructuringElement(cv2.MORPH_RECT, (3, 3))  #필터 모양, 크기 지정\n",
    "\n",
    "def onTrackbar(pos):\n",
    "    _, src = cv2.threshold(src_org, pos, 255, cv2.THRESH_BINARY)\n",
    "    ero = cv2.erode(src, se)  #침식\n",
    "    dia = cv2.dilate(src, se)  #팽창\n",
    "    cv2.imshow(\"src\", src)\n",
    "    cv2.imshow(\"erode\", ero)\n",
    "    cv2.imshow(\"dilate\", dia)\n",
    "\n",
    "cv2.namedWindow(\"src\", cv2.WINDOW_NORMAL)\n",
    "cv2.namedWindow(\"erode\", cv2.WINDOW_NORMAL)\n",
    "cv2.namedWindow(\"dilate\", cv2.WINDOW_NORMAL)\n",
    "\n",
    "resized_size = (int(src.shape[1]*0.6), int(src.shape[0]*0.6))\n",
    "cv2.resizeWindow(\"src\", resized_size)\n",
    "cv2.resizeWindow(\"erode\", resized_size)\n",
    "cv2.resizeWindow(\"dilate\", resized_size)\n",
    "\n",
    "cv2.createTrackbar(\"threshold\", \"src\", 0, 255, onTrackbar)  #트랙바 호출\n",
    "cv2.setTrackbarPos(\"threshold\", \"src\", 60)\n",
    "cv2.imshow(\"src\", src)\n",
    "\n",
    "cv2.waitKey()\n",
    "cv2.destroyAllWindows()\n"
   ]
  }
 ],
 "metadata": {
  "kernelspec": {
   "display_name": "Python 3",
   "language": "python",
   "name": "python3"
  },
  "language_info": {
   "codemirror_mode": {
    "name": "ipython",
    "version": 3
   },
   "file_extension": ".py",
   "mimetype": "text/x-python",
   "name": "python",
   "nbconvert_exporter": "python",
   "pygments_lexer": "ipython3",
   "version": "3.7.9"
  }
 },
 "nbformat": 4,
 "nbformat_minor": 4
}
