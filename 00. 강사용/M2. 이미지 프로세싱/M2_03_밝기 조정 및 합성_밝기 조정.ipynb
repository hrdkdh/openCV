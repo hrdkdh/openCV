{
 "cells": [
  {
   "cell_type": "code",
   "execution_count": null,
   "metadata": {},
   "outputs": [],
   "source": [
    "# 장미 이미지를 흑백으로 불러와서 밝기 조정 하기\n",
    "import cv2\n",
    "\n",
    "img = cv2.imread(\"../images/rose.jpg\", cv2.IMREAD_GRAYSCALE)\n",
    "\n",
    "img1 = cv2.add(img,100)  # 각 픽셀의 값에 100을 더함, 컬러 이미지 일 경우 (100,100,100) 으로 입력\n",
    "img2 = cv2.add(img,-50) # 각 픽셀의 값에 50을 뺌\n",
    "cv2.imshow(\"img\", img)\n",
    "cv2.imshow(\"img1\", img1)\n",
    "cv2.imshow(\"img2\", img2)\n",
    "\n",
    "cv2.waitKey() \n",
    "cv2.destroyAllWindows()\n"
   ]
  }
 ],
 "metadata": {
  "kernelspec": {
   "display_name": "Python 3",
   "language": "python",
   "name": "python3"
  },
  "language_info": {
   "codemirror_mode": {
    "name": "ipython",
    "version": 3
   },
   "file_extension": ".py",
   "mimetype": "text/x-python",
   "name": "python",
   "nbconvert_exporter": "python",
   "pygments_lexer": "ipython3",
   "version": "3.7.9"
  }
 },
 "nbformat": 4,
 "nbformat_minor": 4
}
