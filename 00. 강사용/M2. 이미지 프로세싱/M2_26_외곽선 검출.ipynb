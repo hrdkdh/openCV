{
 "cells": [
  {
   "cell_type": "code",
   "execution_count": 2,
   "metadata": {},
   "outputs": [],
   "source": [
    "import cv2\n",
    "\n",
    "src = cv2.imread(\"../images/blocks.png\", cv2.IMREAD_GRAYSCALE)  #png를 grayscale로 불러오기\n",
    "\n",
    "contours, hier = cv2.findContours(src, cv2.RETR_LIST, cv2.CHAIN_APPROX_NONE) #외곽선 검출\n",
    "dst = cv2.cvtColor(src, cv2.COLOR_GRAY2BGR) #외곽선을 그리기 위해 dst를 컬러로 변환\n",
    "\n",
    "cv2.drawContours(dst, contours, -1, (0,0,255), 2, cv2.LINE_AA, hier) #외곽선 그리기\n",
    "\n",
    "cv2.imshow(\"src\", src)\n",
    "cv2.imshow(\"dst\", dst)\n",
    "\n",
    "cv2.waitKey()\n",
    "cv2.destroyAllWindows()\n"
   ]
  }
 ],
 "metadata": {
  "kernelspec": {
   "display_name": "Python 3",
   "language": "python",
   "name": "python3"
  },
  "language_info": {
   "codemirror_mode": {
    "name": "ipython",
    "version": 3
   },
   "file_extension": ".py",
   "mimetype": "text/x-python",
   "name": "python",
   "nbconvert_exporter": "python",
   "pygments_lexer": "ipython3",
   "version": "3.7.9"
  }
 },
 "nbformat": 4,
 "nbformat_minor": 4
}
