{
 "cells": [
  {
   "cell_type": "code",
   "execution_count": null,
   "metadata": {},
   "outputs": [],
   "source": [
    "# 비행기와 구름 이미지를 50% 비율로 합성\n",
    "import cv2\n",
    "\n",
    "img = cv2.imread(\"../images/plane.jpg\")\n",
    "img1 = cv2.imread(\"../images/cloud.jpg\")\n",
    "img2 = cv2.addWeighted(img,0.5,img1,0.5, 0) #img의 가중치 0.5 , img1의 가중치 0.5  \n",
    "\n",
    "cv2.imshow(\"img\", img)\n",
    "cv2.imshow(\"img1\", img1)\n",
    "cv2.imshow(\"img2\", img2)\n",
    "\n",
    "cv2.waitKey() \n",
    "cv2.destroyAllWindows()\n"
   ]
  }
 ],
 "metadata": {
  "kernelspec": {
   "display_name": "Python 3",
   "language": "python",
   "name": "python3"
  },
  "language_info": {
   "codemirror_mode": {
    "name": "ipython",
    "version": 3
   },
   "file_extension": ".py",
   "mimetype": "text/x-python",
   "name": "python",
   "nbconvert_exporter": "python",
   "pygments_lexer": "ipython3",
   "version": "3.7.9"
  }
 },
 "nbformat": 4,
 "nbformat_minor": 4
}
