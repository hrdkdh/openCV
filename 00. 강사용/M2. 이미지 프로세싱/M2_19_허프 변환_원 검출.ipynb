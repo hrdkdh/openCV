{
 "cells": [
  {
   "cell_type": "code",
   "execution_count": 2,
   "metadata": {},
   "outputs": [],
   "source": [
    "import cv2\n",
    "import numpy as np\n",
    "\n",
    "src = cv2.imread(\"../images/pipe.jpg\")\n",
    "gray = cv2.cvtColor(src, cv2.COLOR_BGR2GRAY)  #그레이이미지로 변환\n",
    "blr = cv2.GaussianBlur(gray, (0, 0), 1.0)  #가우시안 블러링\n",
    "\n",
    "def on_trackbar(pos):   #트랙바 입력 함수\n",
    "    pass\n",
    "\n",
    "# 트랙바 생성\n",
    "cv2.imshow(\"img\", src)\n",
    "cv2.createTrackbar(\"minRadius\", \"img\", 10, 100, on_trackbar) \n",
    "cv2.createTrackbar(\"maxRadius\", \"img\", 80, 150, on_trackbar)\n",
    "cv2.createTrackbar(\"threshold\", \"img\", 40, 100, on_trackbar)\n",
    "\n",
    "#하나의 창에 여러 트랙바를 쓸 경우 getTrackbarPos 함수로 처리\n",
    "while True:\n",
    "    rmin = cv2.getTrackbarPos(\"minRadius\", \"img\")  # 원의 최소 반지름 입력 받기\n",
    "    rmax = cv2.getTrackbarPos(\"maxRadius\", \"img\") # 원의 최대 반지름 입력 받기\n",
    "    th = cv2.getTrackbarPos(\"threshold\", \"img\")   # 축적배열에서 원 검출을 위한 임계값 입력 받기\n",
    "    circles = cv2.HoughCircles(blr, cv2.HOUGH_GRADIENT, 1, 50, param1=120, param2=th, minRadius=rmin, maxRadius=rmax)  #허프 원 검출 함수\n",
    "    dst = src.copy()\n",
    "    if circles is not None:\n",
    "        for i in range(circles.shape[1]):      \n",
    "            cx, cy, radius = circles[0][i] #원의 중심점 좌표, 반지름 \n",
    "            cv2.circle(dst, (int(cx), int(cy)), int(radius), (0, 0, 255), 2, cv2.LINE_AA)  # 원그리기\n",
    "    cv2.imshow(\"img\", dst)\n",
    "    if cv2.waitKey(1) == 27:\n",
    "        break\n",
    "\n",
    "cv2.destroyAllWindows()"
   ]
  }
 ],
 "metadata": {
  "kernelspec": {
   "display_name": "Python 3",
   "language": "python",
   "name": "python3"
  },
  "language_info": {
   "codemirror_mode": {
    "name": "ipython",
    "version": 3
   },
   "file_extension": ".py",
   "mimetype": "text/x-python",
   "name": "python",
   "nbconvert_exporter": "python",
   "pygments_lexer": "ipython3",
   "version": "3.7.9"
  }
 },
 "nbformat": 4,
 "nbformat_minor": 4
}
