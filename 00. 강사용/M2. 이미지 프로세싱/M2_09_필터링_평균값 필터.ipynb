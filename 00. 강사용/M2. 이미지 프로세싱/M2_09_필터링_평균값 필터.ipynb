{
 "cells": [
  {
   "cell_type": "code",
   "execution_count": 1,
   "metadata": {},
   "outputs": [],
   "source": [
    "import cv2\n",
    "\n",
    "src = cv2.imread(\"../images/rose.jpg\", cv2.IMREAD_GRAYSCALE)  # 그레이스케일로 이미지 불러오기\n",
    "\n",
    "dst3 = cv2.blur(src, (3,3))  # 3x3 필터로 블러링\n",
    "dst5 = cv2.blur(src, (5,5))  #5x5 필터로 블러링\n",
    "dst7 = cv2.blur(src, (7,7))  #7x7 필터로 블러링\n",
    "\n",
    "cv2.imshow(\"src\", src)\n",
    "cv2.imshow(\"3x3\", dst3)\n",
    "cv2.imshow(\"5x5\", dst5)\n",
    "cv2.imshow(\"7x7\", dst7)\n",
    "\n",
    "cv2.waitKey()\n",
    "cv2.destroyAllWindows() "
   ]
  }
 ],
 "metadata": {
  "kernelspec": {
   "display_name": "Python 3",
   "language": "python",
   "name": "python3"
  },
  "language_info": {
   "codemirror_mode": {
    "name": "ipython",
    "version": 3
   },
   "file_extension": ".py",
   "mimetype": "text/x-python",
   "name": "python",
   "nbconvert_exporter": "python",
   "pygments_lexer": "ipython3",
   "version": "3.7.9"
  }
 },
 "nbformat": 4,
 "nbformat_minor": 4
}
