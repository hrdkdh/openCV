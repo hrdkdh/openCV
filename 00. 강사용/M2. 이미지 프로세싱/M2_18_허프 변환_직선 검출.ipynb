{
 "cells": [
  {
   "cell_type": "code",
   "execution_count": 1,
   "metadata": {},
   "outputs": [],
   "source": [
    "import cv2\n",
    "import numpy as np\n",
    "\n",
    "src = cv2.imread(\"../images/building.jpg\", cv2.IMREAD_GRAYSCALE)\n",
    "edges = cv2.Canny(src, 50, 150) # 에지 영상 생성\n",
    "\n",
    "lines = cv2.HoughLinesP(edges, 1, np.pi / 180., 160, minLineLength=50, maxLineGap=5) #허프 변환\n",
    "dst = cv2.cvtColor(edges, cv2.COLOR_GRAY2BGR) #컬러 영상으로 전환\n",
    "\n",
    "if lines is not None:\n",
    "    for line in lines:\n",
    "        pt1 = (line[0][0], line[0][1])  # 시작점 좌표를 pt1에 저장\n",
    "        pt2 = (line[0][2], line[0][3])  # 끝점 좌표를 pt2에 저장\n",
    "        cv2.line(dst, pt1, pt2, (0, 0, 255), 2, cv2.LINE_AA)\n",
    "\n",
    "cv2.imshow(\"src\", src)\n",
    "cv2.imshow(\"dst\", dst)\n",
    "\n",
    "cv2.waitKey()\n",
    "cv2.destroyAllWindows()\n"
   ]
  }
 ],
 "metadata": {
  "kernelspec": {
   "display_name": "Python 3.9.10 ('venv_tf_3.9')",
   "language": "python",
   "name": "python3"
  },
  "language_info": {
   "codemirror_mode": {
    "name": "ipython",
    "version": 3
   },
   "file_extension": ".py",
   "mimetype": "text/x-python",
   "name": "python",
   "nbconvert_exporter": "python",
   "pygments_lexer": "ipython3",
   "version": "3.9.10"
  },
  "vscode": {
   "interpreter": {
    "hash": "aaf533d5ae3a3d7a7fcdd7d995dbe2f3fcb3d854cc4805079aca601e58923c31"
   }
  }
 },
 "nbformat": 4,
 "nbformat_minor": 4
}
