{
 "cells": [
  {
   "cell_type": "code",
   "execution_count": 1,
   "metadata": {},
   "outputs": [],
   "source": [
    "import cv2\n",
    "\n",
    "img = cv2.imread(\"../images/hawkes.jpg\", cv2.IMREAD_GRAYSCALE)  #그레이스케일로 이미지 불러오기\n",
    "dst =cv2.normalize(img,  None, 0,255, cv2.NORM_MINMAX)  #히스토그램 스트레칭\n",
    "dst1 = cv2.equalizeHist(img)  #히스토그램 평활화\n",
    "\n",
    "cv2.imshow(\"img\", img)\n",
    "cv2.imshow(\"dst\", dst)\n",
    "cv2.imshow(\"dst1\",dst1)\n",
    "\n",
    "cv2.waitKey() \n",
    "cv2.destroyAllWindows()"
   ]
  }
 ],
 "metadata": {
  "kernelspec": {
   "display_name": "Python 3",
   "language": "python",
   "name": "python3"
  },
  "language_info": {
   "codemirror_mode": {
    "name": "ipython",
    "version": 3
   },
   "file_extension": ".py",
   "mimetype": "text/x-python",
   "name": "python",
   "nbconvert_exporter": "python",
   "pygments_lexer": "ipython3",
   "version": "3.7.9"
  }
 },
 "nbformat": 4,
 "nbformat_minor": 4
}
