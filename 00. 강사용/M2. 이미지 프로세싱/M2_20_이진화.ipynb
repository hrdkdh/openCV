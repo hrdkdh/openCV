{
 "cells": [
  {
   "cell_type": "code",
   "execution_count": 1,
   "metadata": {},
   "outputs": [],
   "source": [
    "import cv2\n",
    "\n",
    "src = cv2.imread(\"../images/cells.jpg\", cv2.IMREAD_GRAYSCALE)\n",
    "_, dst_t1 = cv2.threshold(src, 160, 255, cv2.THRESH_BINARY)  #임계값 160에서 이진화\n",
    "_, dst_t2 = cv2.threshold(src, 210, 255, cv2.THRESH_BINARY)  #임계값 210에서 이진화\n",
    "\n",
    "\n",
    "cv2.imshow(\"src\", src)\n",
    "cv2.imshow(\"dst_t1\", dst_t1)\n",
    "cv2.imshow(\"dst_t2\", dst_t2)\n",
    "\n",
    "cv2.waitKey()\n",
    "cv2.destroyAllWindows()\n"
   ]
  }
 ],
 "metadata": {
  "kernelspec": {
   "display_name": "Python 3",
   "language": "python",
   "name": "python3"
  },
  "language_info": {
   "codemirror_mode": {
    "name": "ipython",
    "version": 3
   },
   "file_extension": ".py",
   "mimetype": "text/x-python",
   "name": "python",
   "nbconvert_exporter": "python",
   "pygments_lexer": "ipython3",
   "version": "3.7.9"
  }
 },
 "nbformat": 4,
 "nbformat_minor": 4
}
