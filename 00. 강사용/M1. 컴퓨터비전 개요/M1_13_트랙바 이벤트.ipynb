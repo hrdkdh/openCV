{
 "cells": [
  {
   "cell_type": "code",
   "execution_count": 2,
   "metadata": {},
   "outputs": [],
   "source": [
    "import numpy as np\n",
    "import cv2\n",
    "\n",
    "def onChange(pos):  #트랩가 이벤트 처리함수 사용자 정의\n",
    "    value = pos * 16   #트랙바 값에 16을 곱하여 색상의 값을 0 ~ 256로 확대\n",
    "    if value >= 255:    #value가 255 이상이면 255로 고정\n",
    "        value = 255\n",
    "    img[:] = value       #이미지 픽셀값을 value로 변경\n",
    "    cv2.imshow(\"image\", img)\n",
    "\n",
    "img = np.zeros((480, 640), np.uint8)  #640 x 480 검정색 이미지 생성\n",
    "cv2.imshow(\"image\", img)\n",
    "cv2.createTrackbar(\"level\", \"image\", 0, 16, onChange)  #트랙바 값을 0~16으로 설정, 트랙바 호출\n",
    " \n",
    "cv2.waitKey()\n",
    "cv2.destroyAllWindows()\n"
   ]
  }
 ],
 "metadata": {
  "kernelspec": {
   "display_name": "Python 3",
   "language": "python",
   "name": "python3"
  },
  "language_info": {
   "codemirror_mode": {
    "name": "ipython",
    "version": 3
   },
   "file_extension": ".py",
   "mimetype": "text/x-python",
   "name": "python",
   "nbconvert_exporter": "python",
   "pygments_lexer": "ipython3",
   "version": "3.7.9"
  }
 },
 "nbformat": 4,
 "nbformat_minor": 4
}
