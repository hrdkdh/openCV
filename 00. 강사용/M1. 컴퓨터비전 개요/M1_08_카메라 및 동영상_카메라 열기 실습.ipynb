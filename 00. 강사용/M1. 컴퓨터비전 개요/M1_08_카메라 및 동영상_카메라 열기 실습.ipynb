{
 "cells": [
  {
   "cell_type": "code",
   "execution_count": null,
   "metadata": {},
   "outputs": [],
   "source": [
    "import sys\n",
    "import cv2\n",
    "\n",
    "# 카메라 열기\n",
    "cap = cv2.VideoCapture(0)    # 기본 카메라를 열고, cap 객체 생성\n",
    "\n",
    "if cap.isOpened() is False:    #카메라 열기를 실패 했을때 실행 중지\n",
    "    print(\"Camera open failed!\")\n",
    "    sys.exit()\n",
    "\n",
    "# 카메라 프레임 크기 출력\n",
    "print(\"Frame width:\", int(cap.get(cv2.CAP_PROP_FRAME_WIDTH)))   #카메라 가로 픽셀 출력\n",
    "print(\"Frame height:\", int(cap.get(cv2.CAP_PROP_FRAME_HEIGHT))) # 카메라 세로 픽셀 출력\n",
    "\n",
    "# 카메라 프레임 처리\n",
    "while True:\n",
    "    ret, frame = cap.read()   #한 프레임 읽어 오기\n",
    "    if ret is False:   # 프레임 읽기가 실패하면 종료\n",
    "        break\n",
    "\n",
    "    inversed = ~frame  # 프레임 반전\n",
    "\n",
    "    cv2.imshow(\"frame\", frame)   #원본 영상 출력\n",
    "    cv2.imshow(\"inversed\", inversed)  # 반전 영상 출력\n",
    "\n",
    "    if cv2.waitKey(10) == 27:   #  10 msec 기다린후 다음 프레임 처리, ESC 키를 눌렀을때 종료\n",
    "        break\n",
    "\n",
    "cap.release()  # 사용한 자원 해제\n",
    "cv2.destroyAllWindows()  # 창 닫기\n"
   ]
  }
 ],
 "metadata": {
  "kernelspec": {
   "display_name": "Python 3",
   "language": "python",
   "name": "python3"
  },
  "language_info": {
   "codemirror_mode": {
    "name": "ipython",
    "version": 3
   },
   "file_extension": ".py",
   "mimetype": "text/x-python",
   "name": "python",
   "nbconvert_exporter": "python",
   "pygments_lexer": "ipython3",
   "version": "3.7.9"
  }
 },
 "nbformat": 4,
 "nbformat_minor": 4
}
