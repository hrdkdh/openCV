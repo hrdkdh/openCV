{
 "cells": [
  {
   "cell_type": "code",
   "execution_count": 1,
   "metadata": {},
   "outputs": [],
   "source": [
    "import sys\n",
    "import cv2\n",
    "\n",
    "cap = cv2.VideoCapture(0)  # 기본 카메라를 열고, cap 객체 생성\n",
    "\n",
    "if cap.isOpened() is False:    #카메라 열기를 실패 했을때 실행 중지\n",
    "    print(\"Camera open failed!\")\n",
    "    sys.exit()\n",
    "    \n",
    "w = round(cap.get(cv2.CAP_PROP_FRAME_WIDTH))  # 카메라 가로 픽셀 크기 \n",
    "h = round(cap.get(cv2.CAP_PROP_FRAME_HEIGHT))  # 카메라 세로 픽셀 크기\n",
    "fps = cap.get(cv2.CAP_PROP_FPS)  # 초당 프레임 수\n",
    "\n",
    "fourcc = cv2.VideoWriter_fourcc(*\"DIVX\")    # 압축방식 지정\n",
    "delay = round(1000 / fps)   # 한 프레임 시간 계산\n",
    "\n",
    "out = cv2.VideoWriter(\"output.avi\", fourcc, fps, (w, h))  # 저장 파일명 지정 및 out 객체 생성\n",
    "if out.isOpened() is False:  # 저장할 동영상이 준비되지 않으면 실행 중지\n",
    "    print(\"File open failed!\")\n",
    "    cap.release()\n",
    "    sys.exit()\n",
    "    \n",
    "while True:\n",
    "    ret, frame = cap.read()   # 카메라로 부터 한 프레임 읽기\n",
    "\n",
    "    if ret is False:    #프레임 읽기가 실패하면 중지\n",
    "        break\n",
    "\n",
    "    inversed = ~frame   # 프레임 반전\n",
    "\n",
    "    out.write(inversed)   #반전 이미지를 out 객체에 저장\n",
    "\n",
    "    cv2.imshow(\"frame\", frame)\n",
    "    cv2.imshow(\"inversed\", inversed)\n",
    "\n",
    "    if cv2.waitKey(delay) == 27:   #esc 키를 눌렀을때 빠져나오기\n",
    "        break\n",
    "\n",
    "cap.release()   # 자원 해제\n",
    "out.release()\n",
    "cv2.destroyAllWindows() # 창 닫기    "
   ]
  }
 ],
 "metadata": {
  "kernelspec": {
   "display_name": "Python 3",
   "language": "python",
   "name": "python3"
  },
  "language_info": {
   "codemirror_mode": {
    "name": "ipython",
    "version": 3
   },
   "file_extension": ".py",
   "mimetype": "text/x-python",
   "name": "python",
   "nbconvert_exporter": "python",
   "pygments_lexer": "ipython3",
   "version": "3.7.9"
  }
 },
 "nbformat": 4,
 "nbformat_minor": 4
}
