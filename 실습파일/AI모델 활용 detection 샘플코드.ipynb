{
 "cells": [
  {
   "cell_type": "markdown",
   "metadata": {},
   "source": [
    "### 1. SSD활용 얼굴검출 예제"
   ]
  },
  {
   "cell_type": "code",
   "execution_count": 3,
   "metadata": {},
   "outputs": [],
   "source": [
    "import os\n",
    "import cv2\n",
    "\n",
    "model, config = \"models/res10_300x300_ssd_iter_140000_fp16.caffemodel\", \"models/deploy.prototxt\"\n",
    "cap = cv2.VideoCapture(0)   #카메라 오픈\n",
    "net = cv2.dnn.readNet(model, config)  #모델 불러오기\n",
    "while True:\n",
    "    ret, frame = cap.read()   #카메라 프레임 읽어오기\n",
    "    blob = cv2.dnn.blobFromImage(frame, 1, (300, 300), (104, 177, 123)) #이미지 크기, 컬러 평균값 지정\n",
    "    net.setInput(blob) #입력 설정\n",
    "    out = net.forward() #추론\n",
    "    detect = out[0, 0, :, :]   # 출력 배열에서 뒷쪽 2개 차원만 활용  [200,7]\n",
    "    (h, w) = frame.shape[:2]  #카메라 프레임의 크기 읽어오기 \n",
    "    for i in range(detect.shape[0]):     #200행을 차례로 불러오기\n",
    "        confidence = detect[i, 2]          # c 값을 읽어 confidence에 저장\n",
    "        if confidence < 0.5:  #confidence 가 0.5보다 작을때는 skip \n",
    "            break\n",
    "        #현재 프레임에 맞춰서 좌표 계산\n",
    "        x1,  y1, x2, y2 = int(detect[i, 3] * w), int(detect[i, 4] * h), int(detect[i, 5] * w), int(detect[i, 6] * h)\n",
    "        cv2.rectangle(frame, (x1, y1), (x2, y2), (0, 255, 0))  # 박스 그리기\n",
    "        label = f\"Face: {confidence:4.2f}\"    #확률값 출력 \n",
    "        cv2.putText(frame, label, (x1, y1 - 1), cv2.FONT_HERSHEY_SIMPLEX, 0.8, (0, 255, 0), 1, cv2.LINE_AA)\n",
    "    cv2.imshow(\"frame\", frame)  #출력\n",
    "    if cv2.waitKey(1) == 27:\n",
    "        break\n",
    "cv2.destroyAllWindows()\n"
   ]
  },
  {
   "cell_type": "markdown",
   "metadata": {},
   "source": [
    "### 2. YOLO활용 사물검출 예제"
   ]
  },
  {
   "cell_type": "code",
   "execution_count": null,
   "metadata": {},
   "outputs": [],
   "source": [
    "import cv2\n",
    "import sys\n",
    "import numpy as np\n",
    "\n",
    "# 모델 & 설정 파일\n",
    "model, config, class_labels = \"models/yolov3.weights\", \"models/yolov3.cfg\", \"models/coco.names\"\n",
    "cap = cv2.VideoCapture(0)   #카메라 오픈\n",
    "net = cv2.dnn.readNet(model, config) #모델 불러오기\n",
    "\n",
    "classes = [] # 클래스 이름 불러오기\n",
    "with open(class_labels, \"rt\") as f:\n",
    "    classes = f.read().rstrip(\"\\n\").split(\"\\n\")\n",
    "\n",
    "colors = np.random.uniform(0, 255, size=(len(classes), 3)) #80개의 클래스에 랜덤한 바운딩 박스 컬러 부여\n",
    "layer_names = net.getLayerNames() # 출력 레이어 이름 받아오기, 82번, 94번, 106번 layer 사용\n",
    "output_layers = [layer_names[i[0] - 1] for i in net.getUnconnectedOutLayers()]\n",
    "confThreshold, nmsThreshold = 0.5, 0.4\n",
    "\n",
    "while True:\n",
    "    ret, frame = cap.read()   #카메라 프레임 읽어오기\n",
    "    blob = cv2.dnn.blobFromImage(frame, 1/255., (320, 320), swapRB=True) #이미지 크기, 컬러 평균값 지정\n",
    "    net.setInput(blob) #입력설정\n",
    "    outs = net.forward(output_layers) #추론\n",
    "    h, w = frame.shape[:2]\n",
    "    class_ids, confidences, boxes = [], [], []\n",
    "\n",
    "    for out in outs:\n",
    "        for detection in out:\n",
    "            scores = detection[5:]     # score에 5~90열 저장, \n",
    "            class_id = np.argmax(scores)   #확률값이 가장 높은 열 번호 추출\n",
    "            confidence = scores[class_id]   # 확률값 저장\n",
    "            if confidence > confThreshold:\n",
    "                # 바운딩 박스 중심 좌표 & 박스 크기 구하기 #바운딩 박스 좌표값이 0~1 이므로 이미지 사이즈 곱함\n",
    "                cx, cy, bw, bh = int(detection[0] * w), int(detection[1] * h), int(detection[2] * w), int(detection[3] * h)\n",
    "                sx, sy = int(cx - bw / 2), int(cy - bh / 2) # 바운딩 박스 좌상단 좌표 구하기\n",
    "                boxes.append([sx, sy, bw, bh])\n",
    "                confidences.append(float(confidence))\n",
    "                class_ids.append(int(class_id))\n",
    "\n",
    "    # 비최대 억제; condidences가 가장 높은 boxes 선택\n",
    "    indices = cv2.dnn.NMSBoxes(boxes, confidences, confThreshold, nmsThreshold)\n",
    "\n",
    "    for i in indices:    # 이미지에 bounding box와 class, confidence 디스플레이\n",
    "        i = i[0]\n",
    "        sx, sy, bw, bh = boxes[i]\n",
    "        label = f\"{classes[class_ids[i]]}: {confidences[i]:.2}\"\n",
    "        color = colors[class_ids[i]]\n",
    "        cv2.rectangle(frame, (sx, sy, bw, bh), color, 2)\n",
    "        cv2.putText(frame, label, (sx, sy - 10),\n",
    "                    cv2.FONT_HERSHEY_SIMPLEX, 0.7, color, 2, cv2.LINE_AA)\n",
    "\n",
    "    cv2.imshow(\"frame\", frame)  \n",
    "    if cv2.waitKey(1) == 27:\n",
    "        break\n",
    "cv2.destroyAllWindows()"
   ]
  }
 ],
 "metadata": {
  "kernelspec": {
   "display_name": "Python 3",
   "language": "python",
   "name": "python3"
  },
  "language_info": {
   "codemirror_mode": {
    "name": "ipython",
    "version": 3
   },
   "file_extension": ".py",
   "mimetype": "text/x-python",
   "name": "python",
   "nbconvert_exporter": "python",
   "pygments_lexer": "ipython3",
   "version": "3.7.9"
  }
 },
 "nbformat": 4,
 "nbformat_minor": 4
}
