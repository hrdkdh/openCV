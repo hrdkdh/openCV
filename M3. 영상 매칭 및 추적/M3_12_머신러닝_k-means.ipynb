{
 "cells": [
  {
   "cell_type": "code",
   "execution_count": null,
   "metadata": {},
   "outputs": [],
   "source": [
    "import cv2\n",
    "import numpy as np\n",
    "\n",
    "src = cv2.imread(\"../images/rose1.jpg\")   # 입력 영상 불러오기\n",
    "data = src.reshape((-1, 3)).astype(np.float32) # 차원 변환 & np.float32 자료형 변환\n",
    "\n",
    "# K-means 알고리즘\n",
    "criteria = (cv2.TERM_CRITERIA_EPS|cv2.TERM_CRITERIA_MAX_ITER, 10, 1.0)\n",
    "\n",
    "for K in range(2, 20):\n",
    "    print(\"K:\", K)\n",
    "    ret, label, center = cv2.kmeans(data, K, None, criteria, 10, cv2.KMEANS_RANDOM_CENTERS)\n",
    "\n",
    "    # 군집화 결과를 이용하여 출력 영상 생성\n",
    "    center = np.uint8(center)\n",
    "    dst = center[label.flatten()]  # 각 픽셀을 K개 군집 중심 색상으로 치환\n",
    "    dst = dst.reshape((src.shape))\n",
    "\n",
    "    cv2.imshow(\"src\", src)\n",
    "    cv2.imshow(\"dst\", dst)\n",
    "    cv2.waitKey()\n",
    "\n",
    "cv2.destroyAllWindows()\n"
   ]
  }
 ],
 "metadata": {
  "kernelspec": {
   "display_name": "Python 3",
   "language": "python",
   "name": "python3"
  },
  "language_info": {
   "codemirror_mode": {
    "name": "ipython",
    "version": 3
   },
   "file_extension": ".py",
   "mimetype": "text/x-python",
   "name": "python",
   "nbconvert_exporter": "python",
   "pygments_lexer": "ipython3",
   "version": "3.7.9"
  }
 },
 "nbformat": 4,
 "nbformat_minor": 4
}
