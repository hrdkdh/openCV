{
 "cells": [
  {
   "cell_type": "code",
   "execution_count": 1,
   "metadata": {},
   "outputs": [],
   "source": [
    "import cv2\n",
    "\n",
    "cap = cv2.VideoCapture(\"../images/woman_who_is_running.avi\")\n",
    "ret, frame = cap.read()\n",
    "cv2.imshow(\"selectROI\", frame)\n",
    "\n",
    "x, y, w, h = cv2.selectROI(\"selectROI\", frame)\n",
    "rc = (x, y, w, h)\n",
    "\n",
    "roi = frame[y:y+h, x:x+w]\n",
    "roi_hsv = cv2.cvtColor(roi, cv2.COLOR_BGR2HSV)\n",
    "\n",
    "channels = [0, 1]\n",
    "ranges = [0, 180, 0, 256]\n",
    "hist = cv2.calcHist([roi_hsv], channels, None, [200, 200], ranges)\n",
    "term_crit = (cv2.TERM_CRITERIA_EPS | cv2.TERM_CRITERIA_COUNT, 10, 1)\n",
    "\n",
    "while True:\n",
    "    ret, frame = cap.read()\n",
    "    if ret:\n",
    "        hsv = cv2.cvtColor(frame, cv2.COLOR_BGR2HSV)\n",
    "        backproj = cv2.calcBackProject([hsv], channels, hist, ranges, 1)\n",
    "\n",
    "        ret_cam, rc = cv2.CamShift(backproj, rc, term_crit)\n",
    "        cv2.ellipse(frame, ret_cam, (0, 255, 0), 2)\n",
    "        cv2.rectangle(frame, rc, (0, 0, 255), 2)\n",
    "        cv2.imshow(\"frame\", frame)\n",
    "\n",
    "        if cv2.waitKey(25) == 27:\n",
    "            break\n",
    "    else:\n",
    "        break\n",
    "        \n",
    "cap.release()\n",
    "cv2.destroyAllWindows()\n"
   ]
  }
 ],
 "metadata": {
  "kernelspec": {
   "display_name": "Python 3",
   "language": "python",
   "name": "python3"
  },
  "language_info": {
   "codemirror_mode": {
    "name": "ipython",
    "version": 3
   },
   "file_extension": ".py",
   "mimetype": "text/x-python",
   "name": "python",
   "nbconvert_exporter": "python",
   "pygments_lexer": "ipython3",
   "version": "3.7.9"
  }
 },
 "nbformat": 4,
 "nbformat_minor": 4
}
