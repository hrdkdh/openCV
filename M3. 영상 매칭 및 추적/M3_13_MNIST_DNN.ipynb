{
 "cells": [
  {
   "cell_type": "code",
   "execution_count": null,
   "metadata": {
    "scrolled": false
   },
   "outputs": [],
   "source": [
    "import cv2\n",
    "import json\n",
    "import numpy as np\n",
    "import tensorflow as tf\n",
    "import matplotlib.pyplot as plt\n",
    "\n",
    "model_dir = \"../models/mnist_dnn\"\n",
    "\n",
    "#얼굴판별 모델 로드\n",
    "model_pgu = tf.keras.models.model_from_json(open(model_dir + \"/pgu_mnist_model_dnn_json.json\").read())\n",
    "model_pgu.load_weights(model_dir + \"/pgu_mnist_model_dnn_weights.h5\")\n",
    "class_names_file = model_dir + \"/pgu_mnist_model_dnn_names.json\"\n",
    "with open(class_names_file, \"r\") as json_file:\n",
    "    class_names = json.load(json_file)\n",
    "\n",
    "#마우스로 그리기\n",
    "click = False\n",
    "canvas = np.zeros((280, 280))\n",
    "\n",
    "def onMouse(event, x, y, flags, param):    #마우스 이벤트 처리함수 사용자 정의\n",
    "    global click\n",
    "    if event == cv2.EVENT_LBUTTONDOWN: # 마우스를 누른 상태\n",
    "        click = True \n",
    "        cv2.circle(canvas, (x, y), 10, 255, -1)\n",
    "    elif event == cv2.EVENT_MOUSEMOVE and click == True: #마우스를 누른 상태에서 이동하면\n",
    "        cv2.circle(canvas, (x, y), 10, 255, -1)\n",
    "    elif event == cv2.EVENT_LBUTTONUP:\n",
    "        click = False # 마우스를 때면 상태 변경\n",
    "        cv2.circle(canvas, (x, y), 10, 255, -1)\n",
    "    elif event == cv2.EVENT_RBUTTONDOWN: # 마우스를 누른 상태\n",
    "        cv2.rectangle(canvas, (0, 0), (canvas.shape[1], canvas.shape[0]), 0, -1)\n",
    "    cv2.imshow(\"canvas\", canvas)\n",
    "#     print(\"x : {}, y : {}\".format(x, y), end=\"\\r\")\n",
    "\n",
    "def testNumber():\n",
    "    cv2.imshow(\"canvas\", canvas)\n",
    "    cv2.setMouseCallback(\"canvas\", onMouse)  #마우스 이벤트 호출\n",
    "\n",
    "    if cv2.waitKey() == 27:\n",
    "        cv2.destroyAllWindows()\n",
    "    elif cv2.waitKey() == ord(\"s\"):\n",
    "        canvas_resized = cv2.resize(canvas, (28, 28), interpolation=cv2.INTER_AREA)\n",
    "        canvas_resized_for_predict = np.expand_dims(canvas_resized, axis=0)\n",
    "        predicted_vector = model_pgu.predict(canvas_resized_for_predict)\n",
    "        predicted_class = np.argmax(predicted_vector, axis=-1)\n",
    "        class_no = str(predicted_class).replace(\"[\", \"\").replace(\"]\", \"\")\n",
    "        label = class_names[class_no] + \" (p : \" + str(round(max(predicted_vector[0]), 2)) + \")\"\n",
    "        cv2.rectangle(canvas, (0, 0), (canvas.shape[1], canvas.shape[0]), 0, -1)\n",
    "        plt.imshow(canvas_resized, cmap=\"gray\")\n",
    "        plt.show()\n",
    "        print(\"DNN 추론결과 : {}\".format(label))\n",
    "        cv2.destroyAllWindows()\n",
    "        testNumber()\n",
    "        \n",
    "if __name__ == \"__main__\":\n",
    "    print(\"그림을 그린 후 s키를 눌러주세요.\")\n",
    "    print(\"그만두려면 ESC!\")\n",
    "    testNumber()"
   ]
  }
 ],
 "metadata": {
  "kernelspec": {
   "display_name": "Python 3",
   "language": "python",
   "name": "python3"
  },
  "language_info": {
   "codemirror_mode": {
    "name": "ipython",
    "version": 3
   },
   "file_extension": ".py",
   "mimetype": "text/x-python",
   "name": "python",
   "nbconvert_exporter": "python",
   "pygments_lexer": "ipython3",
   "version": "3.6.5"
  }
 },
 "nbformat": 4,
 "nbformat_minor": 4
}
