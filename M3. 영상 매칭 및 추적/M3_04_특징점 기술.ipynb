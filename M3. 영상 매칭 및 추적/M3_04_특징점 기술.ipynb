{
 "cells": [
  {
   "cell_type": "code",
   "execution_count": 1,
   "metadata": {},
   "outputs": [
    {
     "name": "stdout",
     "output_type": "stream",
     "text": [
      "descriptors1.shape :  (3219, 64)\n",
      "descriptors1.dtype :  float32\n",
      "descriptors2.shape :  (3626, 64)\n",
      "descriptors2.dtype :  float32\n"
     ]
    }
   ],
   "source": [
    "import cv2\n",
    "\n",
    "src1 = cv2.imread(\"../images/graff1.png\", cv2.IMREAD_GRAYSCALE)\n",
    "src2 = cv2.imread(\"../images/graff2.png\", cv2.IMREAD_GRAYSCALE)\n",
    "\n",
    "feature = cv2.KAZE_create() #KAZE는 기술자를 float32로 반환(실수형)\n",
    "#feature = cv2.KAZE_create() #AKAZE, ORB는 기술자를 uint8로 반환(이진형)\n",
    "\n",
    "keypoints1, descriptors1 = feature.detectAndCompute(src1, None)\n",
    "keypoints2, descriptors2 = feature.detectAndCompute(src2, None)\n",
    "\n",
    "print(\"descriptors1.shape : \", descriptors1.shape)\n",
    "print(\"descriptors1.dtype : \", descriptors1.dtype)\n",
    "\n",
    "print(\"descriptors2.shape : \", descriptors2.shape)\n",
    "print(\"descriptors2.dtype : \", descriptors2.dtype)\n"
   ]
  }
 ],
 "metadata": {
  "kernelspec": {
   "display_name": "Python 3",
   "language": "python",
   "name": "python3"
  },
  "language_info": {
   "codemirror_mode": {
    "name": "ipython",
    "version": 3
   },
   "file_extension": ".py",
   "mimetype": "text/x-python",
   "name": "python",
   "nbconvert_exporter": "python",
   "pygments_lexer": "ipython3",
   "version": "3.7.9"
  }
 },
 "nbformat": 4,
 "nbformat_minor": 4
}
