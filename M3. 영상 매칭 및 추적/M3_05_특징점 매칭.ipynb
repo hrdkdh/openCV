{
 "cells": [
  {
   "cell_type": "code",
   "execution_count": 1,
   "metadata": {},
   "outputs": [],
   "source": [
    "import cv2\n",
    "\n",
    "src1 = cv2.imread(\"../images/graff1.png\", cv2.IMREAD_GRAYSCALE)\n",
    "src2 = cv2.imread(\"../images/graff2.png\", cv2.IMREAD_GRAYSCALE)\n",
    "\n",
    "feature = cv2.KAZE_create()\n",
    "\n",
    "keypoints1, descriptors1 = feature.detectAndCompute(src1, None)\n",
    "keypoints2, descriptors2 = feature.detectAndCompute(src2, None)\n",
    "\n",
    "matcher = cv2.BFMatcher_create()\n",
    "matches = matcher.match(descriptors1, descriptors2)\n",
    "\n",
    "#좋은 매칭 결과 선별. 매칭 결과 중 상위 80개만 선택하여 good_matches 배열에 입력\n",
    "matches = sorted(matches, key=lambda x: x.distance)\n",
    "good_matches = matches[:80]\n",
    "\n",
    "dst = cv2.drawMatches(src1, keypoints1, src2, keypoints2, good_matches, None)\n",
    "cv2.imshow(\"dst\", dst)\n",
    "cv2.waitKey()\n",
    "cv2.destroyAllWindows()\n"
   ]
  }
 ],
 "metadata": {
  "kernelspec": {
   "display_name": "Python 3",
   "language": "python",
   "name": "python3"
  },
  "language_info": {
   "codemirror_mode": {
    "name": "ipython",
    "version": 3
   },
   "file_extension": ".py",
   "mimetype": "text/x-python",
   "name": "python",
   "nbconvert_exporter": "python",
   "pygments_lexer": "ipython3",
   "version": "3.7.9"
  }
 },
 "nbformat": 4,
 "nbformat_minor": 4
}
